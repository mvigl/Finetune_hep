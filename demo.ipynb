{
 "cells": [
  {
   "cell_type": "code",
   "execution_count": 24,
   "metadata": {},
   "outputs": [],
   "source": [
    "import numpy as np\n",
    "import torch\n",
    "from comet_ml import Experiment,ExistingExperiment\n",
    "from comet_ml.integration.pytorch import log_model\n",
    "import yaml\n",
    "import h5py\n",
    "import matplotlib.pyplot as plt"
   ]
  },
  {
   "cell_type": "code",
   "execution_count": 25,
   "metadata": {},
   "outputs": [],
   "source": [
    "from Finetune_hep.python import train,helpers,models"
   ]
  },
  {
   "cell_type": "code",
   "execution_count": 26,
   "metadata": {},
   "outputs": [],
   "source": [
    "device = helpers.get_device()\n",
    "data_config_Xbb = 'config/ParT_Xbb_config.yaml'\n",
    "data_config_latent = 'config/ParT_latent_config.yaml'\n",
    "data_config_latent_hlf = 'config/ParT_latent_hlf_config.yaml'\n",
    "data_config_Xbb_hlf = 'config/ParT_Xbb_hlf_config.yaml'"
   ]
  },
  {
   "cell_type": "code",
   "execution_count": 27,
   "metadata": {},
   "outputs": [],
   "source": [
    "model_Xbb = models.full_model(data_config_Xbb,for_inference=True)  \n",
    "model_latent = models.full_model(data_config_latent,for_inference=False)  \n",
    "model_Xbb_hlf = models.full_model(data_config_Xbb_hlf,for_inference=True,save_representaions=True)  \n",
    "model_latent_hlf = models.full_model(data_config_latent_hlf,for_inference=True,save_representaions=True)  "
   ]
  },
  {
   "cell_type": "code",
   "execution_count": 28,
   "metadata": {},
   "outputs": [
    {
     "data": {
      "text/plain": [
       "ParticleTransformerWrapper(\n",
       "  (head): InvariantModel(\n",
       "    (phi): Sequential(\n",
       "      (0): Linear(in_features=133, out_features=128, bias=True)\n",
       "      (1): ReLU()\n",
       "      (2): Linear(in_features=128, out_features=128, bias=True)\n",
       "      (3): ReLU()\n",
       "      (4): Linear(in_features=128, out_features=128, bias=True)\n",
       "      (5): ReLU()\n",
       "    )\n",
       "    (rho): Sequential(\n",
       "      (0): Linear(in_features=128, out_features=128, bias=True)\n",
       "      (1): ReLU()\n",
       "      (2): Linear(in_features=128, out_features=128, bias=True)\n",
       "      (3): ReLU()\n",
       "      (4): Linear(in_features=128, out_features=128, bias=True)\n",
       "      (5): ReLU()\n",
       "      (6): Linear(in_features=128, out_features=1, bias=True)\n",
       "      (7): Sigmoid()\n",
       "    )\n",
       "  )\n",
       "  (mod): ParticleTransformer(\n",
       "    (trimmer): SequenceTrimmer()\n",
       "    (embed): Embed(\n",
       "      (input_bn): BatchNorm1d(17, eps=1e-05, momentum=0.1, affine=True, track_running_stats=True)\n",
       "      (embed): Sequential(\n",
       "        (0): LayerNorm((17,), eps=1e-05, elementwise_affine=True)\n",
       "        (1): Linear(in_features=17, out_features=128, bias=True)\n",
       "        (2): GELU(approximate='none')\n",
       "        (3): LayerNorm((128,), eps=1e-05, elementwise_affine=True)\n",
       "        (4): Linear(in_features=128, out_features=512, bias=True)\n",
       "        (5): GELU(approximate='none')\n",
       "        (6): LayerNorm((512,), eps=1e-05, elementwise_affine=True)\n",
       "        (7): Linear(in_features=512, out_features=128, bias=True)\n",
       "        (8): GELU(approximate='none')\n",
       "      )\n",
       "    )\n",
       "    (pair_embed): PairEmbed(\n",
       "      (embed): Sequential(\n",
       "        (0): BatchNorm1d(4, eps=1e-05, momentum=0.1, affine=True, track_running_stats=True)\n",
       "        (1): Conv1d(4, 64, kernel_size=(1,), stride=(1,))\n",
       "        (2): BatchNorm1d(64, eps=1e-05, momentum=0.1, affine=True, track_running_stats=True)\n",
       "        (3): GELU(approximate='none')\n",
       "        (4): Conv1d(64, 64, kernel_size=(1,), stride=(1,))\n",
       "        (5): BatchNorm1d(64, eps=1e-05, momentum=0.1, affine=True, track_running_stats=True)\n",
       "        (6): GELU(approximate='none')\n",
       "        (7): Conv1d(64, 64, kernel_size=(1,), stride=(1,))\n",
       "        (8): BatchNorm1d(64, eps=1e-05, momentum=0.1, affine=True, track_running_stats=True)\n",
       "        (9): GELU(approximate='none')\n",
       "        (10): Conv1d(64, 8, kernel_size=(1,), stride=(1,))\n",
       "        (11): BatchNorm1d(8, eps=1e-05, momentum=0.1, affine=True, track_running_stats=True)\n",
       "        (12): GELU(approximate='none')\n",
       "      )\n",
       "    )\n",
       "    (blocks): ModuleList(\n",
       "      (0-7): 8 x Block(\n",
       "        (pre_attn_norm): LayerNorm((128,), eps=1e-05, elementwise_affine=True)\n",
       "        (attn): MultiheadAttention(\n",
       "          (out_proj): NonDynamicallyQuantizableLinear(in_features=128, out_features=128, bias=True)\n",
       "        )\n",
       "        (post_attn_norm): LayerNorm((128,), eps=1e-05, elementwise_affine=True)\n",
       "        (dropout): Dropout(p=0.1, inplace=False)\n",
       "        (pre_fc_norm): LayerNorm((128,), eps=1e-05, elementwise_affine=True)\n",
       "        (fc1): Linear(in_features=128, out_features=512, bias=True)\n",
       "        (act): GELU(approximate='none')\n",
       "        (act_dropout): Dropout(p=0.1, inplace=False)\n",
       "        (post_fc_norm): LayerNorm((512,), eps=1e-05, elementwise_affine=True)\n",
       "        (fc2): Linear(in_features=512, out_features=128, bias=True)\n",
       "      )\n",
       "    )\n",
       "    (cls_blocks): ModuleList(\n",
       "      (0-1): 2 x Block(\n",
       "        (pre_attn_norm): LayerNorm((128,), eps=1e-05, elementwise_affine=True)\n",
       "        (attn): MultiheadAttention(\n",
       "          (out_proj): NonDynamicallyQuantizableLinear(in_features=128, out_features=128, bias=True)\n",
       "        )\n",
       "        (post_attn_norm): LayerNorm((128,), eps=1e-05, elementwise_affine=True)\n",
       "        (dropout): Dropout(p=0, inplace=False)\n",
       "        (pre_fc_norm): LayerNorm((128,), eps=1e-05, elementwise_affine=True)\n",
       "        (fc1): Linear(in_features=128, out_features=512, bias=True)\n",
       "        (act): GELU(approximate='none')\n",
       "        (act_dropout): Dropout(p=0, inplace=False)\n",
       "        (post_fc_norm): LayerNorm((512,), eps=1e-05, elementwise_affine=True)\n",
       "        (fc2): Linear(in_features=512, out_features=128, bias=True)\n",
       "      )\n",
       "    )\n",
       "    (norm): LayerNorm((128,), eps=1e-05, elementwise_affine=True)\n",
       "  )\n",
       ")"
      ]
     },
     "execution_count": 28,
     "metadata": {},
     "output_type": "execute_result"
    }
   ],
   "source": [
    "model_latent_hlf"
   ]
  },
  {
   "cell_type": "code",
   "execution_count": 29,
   "metadata": {},
   "outputs": [
    {
     "data": {
      "text/plain": [
       "ParticleTransformerWrapper(\n",
       "  (Xbb): Sequential(\n",
       "    (0): Linear(in_features=128, out_features=1, bias=True)\n",
       "  )\n",
       "  (head): InvariantModel(\n",
       "    (phi): Sequential(\n",
       "      (0): Linear(in_features=6, out_features=128, bias=True)\n",
       "      (1): ReLU()\n",
       "      (2): Linear(in_features=128, out_features=128, bias=True)\n",
       "      (3): ReLU()\n",
       "      (4): Linear(in_features=128, out_features=128, bias=True)\n",
       "      (5): ReLU()\n",
       "    )\n",
       "    (rho): Sequential(\n",
       "      (0): Linear(in_features=128, out_features=128, bias=True)\n",
       "      (1): ReLU()\n",
       "      (2): Linear(in_features=128, out_features=128, bias=True)\n",
       "      (3): ReLU()\n",
       "      (4): Linear(in_features=128, out_features=128, bias=True)\n",
       "      (5): ReLU()\n",
       "      (6): Linear(in_features=128, out_features=1, bias=True)\n",
       "      (7): Sigmoid()\n",
       "    )\n",
       "  )\n",
       "  (mod): ParticleTransformer(\n",
       "    (trimmer): SequenceTrimmer()\n",
       "    (embed): Embed(\n",
       "      (input_bn): BatchNorm1d(17, eps=1e-05, momentum=0.1, affine=True, track_running_stats=True)\n",
       "      (embed): Sequential(\n",
       "        (0): LayerNorm((17,), eps=1e-05, elementwise_affine=True)\n",
       "        (1): Linear(in_features=17, out_features=128, bias=True)\n",
       "        (2): GELU(approximate='none')\n",
       "        (3): LayerNorm((128,), eps=1e-05, elementwise_affine=True)\n",
       "        (4): Linear(in_features=128, out_features=512, bias=True)\n",
       "        (5): GELU(approximate='none')\n",
       "        (6): LayerNorm((512,), eps=1e-05, elementwise_affine=True)\n",
       "        (7): Linear(in_features=512, out_features=128, bias=True)\n",
       "        (8): GELU(approximate='none')\n",
       "      )\n",
       "    )\n",
       "    (pair_embed): PairEmbed(\n",
       "      (embed): Sequential(\n",
       "        (0): BatchNorm1d(4, eps=1e-05, momentum=0.1, affine=True, track_running_stats=True)\n",
       "        (1): Conv1d(4, 64, kernel_size=(1,), stride=(1,))\n",
       "        (2): BatchNorm1d(64, eps=1e-05, momentum=0.1, affine=True, track_running_stats=True)\n",
       "        (3): GELU(approximate='none')\n",
       "        (4): Conv1d(64, 64, kernel_size=(1,), stride=(1,))\n",
       "        (5): BatchNorm1d(64, eps=1e-05, momentum=0.1, affine=True, track_running_stats=True)\n",
       "        (6): GELU(approximate='none')\n",
       "        (7): Conv1d(64, 64, kernel_size=(1,), stride=(1,))\n",
       "        (8): BatchNorm1d(64, eps=1e-05, momentum=0.1, affine=True, track_running_stats=True)\n",
       "        (9): GELU(approximate='none')\n",
       "        (10): Conv1d(64, 8, kernel_size=(1,), stride=(1,))\n",
       "        (11): BatchNorm1d(8, eps=1e-05, momentum=0.1, affine=True, track_running_stats=True)\n",
       "        (12): GELU(approximate='none')\n",
       "      )\n",
       "    )\n",
       "    (blocks): ModuleList(\n",
       "      (0-7): 8 x Block(\n",
       "        (pre_attn_norm): LayerNorm((128,), eps=1e-05, elementwise_affine=True)\n",
       "        (attn): MultiheadAttention(\n",
       "          (out_proj): NonDynamicallyQuantizableLinear(in_features=128, out_features=128, bias=True)\n",
       "        )\n",
       "        (post_attn_norm): LayerNorm((128,), eps=1e-05, elementwise_affine=True)\n",
       "        (dropout): Dropout(p=0.1, inplace=False)\n",
       "        (pre_fc_norm): LayerNorm((128,), eps=1e-05, elementwise_affine=True)\n",
       "        (fc1): Linear(in_features=128, out_features=512, bias=True)\n",
       "        (act): GELU(approximate='none')\n",
       "        (act_dropout): Dropout(p=0.1, inplace=False)\n",
       "        (post_fc_norm): LayerNorm((512,), eps=1e-05, elementwise_affine=True)\n",
       "        (fc2): Linear(in_features=512, out_features=128, bias=True)\n",
       "      )\n",
       "    )\n",
       "    (cls_blocks): ModuleList(\n",
       "      (0-1): 2 x Block(\n",
       "        (pre_attn_norm): LayerNorm((128,), eps=1e-05, elementwise_affine=True)\n",
       "        (attn): MultiheadAttention(\n",
       "          (out_proj): NonDynamicallyQuantizableLinear(in_features=128, out_features=128, bias=True)\n",
       "        )\n",
       "        (post_attn_norm): LayerNorm((128,), eps=1e-05, elementwise_affine=True)\n",
       "        (dropout): Dropout(p=0, inplace=False)\n",
       "        (pre_fc_norm): LayerNorm((128,), eps=1e-05, elementwise_affine=True)\n",
       "        (fc1): Linear(in_features=128, out_features=512, bias=True)\n",
       "        (act): GELU(approximate='none')\n",
       "        (act_dropout): Dropout(p=0, inplace=False)\n",
       "        (post_fc_norm): LayerNorm((512,), eps=1e-05, elementwise_affine=True)\n",
       "        (fc2): Linear(in_features=512, out_features=128, bias=True)\n",
       "      )\n",
       "    )\n",
       "    (norm): LayerNorm((128,), eps=1e-05, elementwise_affine=True)\n",
       "  )\n",
       ")"
      ]
     },
     "execution_count": 29,
     "metadata": {},
     "output_type": "execute_result"
    }
   ],
   "source": [
    "model_Xbb_hlf"
   ]
  },
  {
   "cell_type": "code",
   "execution_count": 30,
   "metadata": {},
   "outputs": [
    {
     "data": {
      "text/plain": [
       "ParticleTransformerWrapper(\n",
       "  (head): Sequential(\n",
       "    (0): Linear(in_features=128, out_features=128, bias=True)\n",
       "    (1): ReLU()\n",
       "    (2): Linear(in_features=128, out_features=128, bias=True)\n",
       "    (3): ReLU()\n",
       "    (4): Linear(in_features=128, out_features=128, bias=True)\n",
       "    (5): ReLU()\n",
       "    (6): Linear(in_features=128, out_features=1, bias=True)\n",
       "  )\n",
       "  (mod): ParticleTransformer(\n",
       "    (trimmer): SequenceTrimmer()\n",
       "    (embed): Embed(\n",
       "      (input_bn): BatchNorm1d(17, eps=1e-05, momentum=0.1, affine=True, track_running_stats=True)\n",
       "      (embed): Sequential(\n",
       "        (0): LayerNorm((17,), eps=1e-05, elementwise_affine=True)\n",
       "        (1): Linear(in_features=17, out_features=128, bias=True)\n",
       "        (2): GELU(approximate='none')\n",
       "        (3): LayerNorm((128,), eps=1e-05, elementwise_affine=True)\n",
       "        (4): Linear(in_features=128, out_features=512, bias=True)\n",
       "        (5): GELU(approximate='none')\n",
       "        (6): LayerNorm((512,), eps=1e-05, elementwise_affine=True)\n",
       "        (7): Linear(in_features=512, out_features=128, bias=True)\n",
       "        (8): GELU(approximate='none')\n",
       "      )\n",
       "    )\n",
       "    (pair_embed): PairEmbed(\n",
       "      (embed): Sequential(\n",
       "        (0): BatchNorm1d(4, eps=1e-05, momentum=0.1, affine=True, track_running_stats=True)\n",
       "        (1): Conv1d(4, 64, kernel_size=(1,), stride=(1,))\n",
       "        (2): BatchNorm1d(64, eps=1e-05, momentum=0.1, affine=True, track_running_stats=True)\n",
       "        (3): GELU(approximate='none')\n",
       "        (4): Conv1d(64, 64, kernel_size=(1,), stride=(1,))\n",
       "        (5): BatchNorm1d(64, eps=1e-05, momentum=0.1, affine=True, track_running_stats=True)\n",
       "        (6): GELU(approximate='none')\n",
       "        (7): Conv1d(64, 64, kernel_size=(1,), stride=(1,))\n",
       "        (8): BatchNorm1d(64, eps=1e-05, momentum=0.1, affine=True, track_running_stats=True)\n",
       "        (9): GELU(approximate='none')\n",
       "        (10): Conv1d(64, 8, kernel_size=(1,), stride=(1,))\n",
       "        (11): BatchNorm1d(8, eps=1e-05, momentum=0.1, affine=True, track_running_stats=True)\n",
       "        (12): GELU(approximate='none')\n",
       "      )\n",
       "    )\n",
       "    (blocks): ModuleList(\n",
       "      (0-7): 8 x Block(\n",
       "        (pre_attn_norm): LayerNorm((128,), eps=1e-05, elementwise_affine=True)\n",
       "        (attn): MultiheadAttention(\n",
       "          (out_proj): NonDynamicallyQuantizableLinear(in_features=128, out_features=128, bias=True)\n",
       "        )\n",
       "        (post_attn_norm): LayerNorm((128,), eps=1e-05, elementwise_affine=True)\n",
       "        (dropout): Dropout(p=0.1, inplace=False)\n",
       "        (pre_fc_norm): LayerNorm((128,), eps=1e-05, elementwise_affine=True)\n",
       "        (fc1): Linear(in_features=128, out_features=512, bias=True)\n",
       "        (act): GELU(approximate='none')\n",
       "        (act_dropout): Dropout(p=0.1, inplace=False)\n",
       "        (post_fc_norm): LayerNorm((512,), eps=1e-05, elementwise_affine=True)\n",
       "        (fc2): Linear(in_features=512, out_features=128, bias=True)\n",
       "      )\n",
       "    )\n",
       "    (cls_blocks): ModuleList(\n",
       "      (0-1): 2 x Block(\n",
       "        (pre_attn_norm): LayerNorm((128,), eps=1e-05, elementwise_affine=True)\n",
       "        (attn): MultiheadAttention(\n",
       "          (out_proj): NonDynamicallyQuantizableLinear(in_features=128, out_features=128, bias=True)\n",
       "        )\n",
       "        (post_attn_norm): LayerNorm((128,), eps=1e-05, elementwise_affine=True)\n",
       "        (dropout): Dropout(p=0, inplace=False)\n",
       "        (pre_fc_norm): LayerNorm((128,), eps=1e-05, elementwise_affine=True)\n",
       "        (fc1): Linear(in_features=128, out_features=512, bias=True)\n",
       "        (act): GELU(approximate='none')\n",
       "        (act_dropout): Dropout(p=0, inplace=False)\n",
       "        (post_fc_norm): LayerNorm((512,), eps=1e-05, elementwise_affine=True)\n",
       "        (fc2): Linear(in_features=512, out_features=128, bias=True)\n",
       "      )\n",
       "    )\n",
       "    (norm): LayerNorm((128,), eps=1e-05, elementwise_affine=True)\n",
       "  )\n",
       ")"
      ]
     },
     "execution_count": 30,
     "metadata": {},
     "output_type": "execute_result"
    }
   ],
   "source": [
    "model_latent"
   ]
  },
  {
   "cell_type": "code",
   "execution_count": 31,
   "metadata": {},
   "outputs": [
    {
     "data": {
      "text/plain": [
       "'Xbb'"
      ]
     },
     "execution_count": 31,
     "metadata": {},
     "output_type": "execute_result"
    }
   ],
   "source": [
    "model_Xbb.Task"
   ]
  },
  {
   "cell_type": "code",
   "execution_count": 32,
   "metadata": {},
   "outputs": [
    {
     "name": "stdout",
     "output_type": "stream",
     "text": [
      "<KeysViewHDF5 ['X_jet', 'X_jet_singlejet', 'X_label', 'X_label_singlejet', 'X_pfo', 'X_pfo_singlejet', 'jet_mask', 'labels']>\n",
      "<HDF5 dataset \"X_jet\": shape (26, 5, 6), type \"<f8\">\n",
      "<HDF5 dataset \"X_jet_singlejet\": shape (60, 6), type \"<f8\">\n",
      "<HDF5 dataset \"X_pfo_singlejet\": shape (60, 100, 15), type \"<f8\">\n",
      "<KeysViewHDF5 ['X_jet', 'X_jet_singlejet', 'X_label', 'X_label_singlejet', 'X_pfo', 'X_pfo_singlejet', 'jet_mask', 'labels']>\n",
      "<HDF5 dataset \"X_jet\": shape (3536, 5, 6), type \"<f8\">\n",
      "<HDF5 dataset \"X_jet_singlejet\": shape (7975, 6), type \"<f8\">\n",
      "<HDF5 dataset \"X_pfo_singlejet\": shape (7975, 100, 15), type \"<f8\">\n"
     ]
    }
   ],
   "source": [
    "with h5py.File('../data/Data_val_sig_30.h5', 'r') as sample_sig:\n",
    "    data = {}\n",
    "    print(sample_sig.keys())\n",
    "    print(sample_sig['X_jet'])\n",
    "    print(sample_sig['X_jet_singlejet'])\n",
    "    print(sample_sig['X_pfo_singlejet'])\n",
    "    data['X_jet'] = sample_sig['X_jet'][:]\n",
    "    data['X_pfo'] = sample_sig['X_pfo'][:]\n",
    "    data['labels'] = sample_sig['labels'][:]\n",
    "    data['jet_mask'] = sample_sig['jet_mask'][:]\n",
    "    inputs = helpers.build_features_and_labels(data)\n",
    "    data_Xbb = {}\n",
    "    data_Xbb['X_jet'] = sample_sig['X_jet_singlejet'][:]\n",
    "    data_Xbb['X_pfo'] = sample_sig['X_pfo_singlejet'][:]\n",
    "    data_Xbb['labels'] = sample_sig['X_label_singlejet'][:]\n",
    "    inputs_Xbb = helpers.build_features_and_labels_Xbb(data_Xbb)\n",
    "with h5py.File('../data/Data_val_bkg_100.h5', 'r') as sample_bkg:\n",
    "    data_bkg = {}\n",
    "    print(sample_bkg.keys())\n",
    "    print(sample_bkg['X_jet'])\n",
    "    print(sample_bkg['X_jet_singlejet'])\n",
    "    print(sample_bkg['X_pfo_singlejet'])\n",
    "    data_bkg['X_jet'] = sample_bkg['X_jet'][:100]\n",
    "    data_bkg['X_pfo'] = sample_bkg['X_pfo'][:100]\n",
    "    data_bkg['labels'] = sample_bkg['labels'][:100]\n",
    "    data_bkg['jet_mask'] = sample_bkg['jet_mask'][:100]\n",
    "    inputs_bkg = helpers.build_features_and_labels(data_bkg)\n",
    "    data_Xbb_bkg = {}\n",
    "    data_Xbb_bkg['X_jet'] = sample_bkg['X_jet_singlejet'][:100]\n",
    "    data_Xbb_bkg['X_pfo'] = sample_bkg['X_pfo_singlejet'][:100]\n",
    "    data_Xbb_bkg['labels'] = sample_bkg['X_label_singlejet'][:100]\n",
    "    inputs_Xbb_bkg = helpers.build_features_and_labels_Xbb(data_Xbb_bkg)    \n"
   ]
  },
  {
   "cell_type": "code",
   "execution_count": 33,
   "metadata": {},
   "outputs": [
    {
     "data": {
      "text/plain": [
       "dict_keys(['pf_points', 'pf_features', 'pf_vectors', 'pf_mask', 'jet_mask', 'label', 'hl_feats'])"
      ]
     },
     "execution_count": 33,
     "metadata": {},
     "output_type": "execute_result"
    }
   ],
   "source": [
    "inputs.keys()"
   ]
  },
  {
   "cell_type": "code",
   "execution_count": 34,
   "metadata": {},
   "outputs": [],
   "source": [
    "pf_points = torch.tensor(inputs['pf_points']).float().to(device)\n",
    "pf_features = torch.tensor(inputs['pf_features']).float().to(device)\n",
    "pf_vectors = torch.tensor(inputs['pf_vectors']).float().to(device)\n",
    "pf_mask = torch.tensor(inputs['pf_mask']).float().to(device)\n",
    "hl_feats = torch.tensor(inputs['hl_feats']).float().to(device)\n",
    "jet_mask = torch.tensor(inputs['jet_mask']).float().to(device)\n",
    "\n",
    "preds = model_latent(pf_points,pf_features,pf_vectors,pf_mask,jet_mask,hl_feats)"
   ]
  },
  {
   "cell_type": "code",
   "execution_count": 35,
   "metadata": {},
   "outputs": [
    {
     "data": {
      "text/plain": [
       "torch.Size([26, 1])"
      ]
     },
     "execution_count": 35,
     "metadata": {},
     "output_type": "execute_result"
    }
   ],
   "source": [
    "preds.shape"
   ]
  },
  {
   "cell_type": "code",
   "execution_count": 36,
   "metadata": {},
   "outputs": [],
   "source": [
    "pf_points = torch.tensor(inputs_Xbb['pf_points']).float().to(device)\n",
    "pf_features = torch.tensor(inputs_Xbb['pf_features']).float().to(device)\n",
    "pf_vectors = torch.tensor(inputs_Xbb['pf_vectors']).float().to(device)\n",
    "pf_mask = torch.tensor(inputs_Xbb['pf_mask']).float().to(device)\n",
    "\n",
    "pf_points_bkg = torch.tensor(inputs_Xbb_bkg['pf_points']).float().to(device)\n",
    "pf_features_bkg = torch.tensor(inputs_Xbb_bkg['pf_features']).float().to(device)\n",
    "pf_vectors_bkg = torch.tensor(inputs_Xbb_bkg['pf_vectors']).float().to(device)\n",
    "pf_mask_bkg = torch.tensor(inputs_Xbb_bkg['pf_mask']).float().to(device)\n",
    "\n",
    "preds_Xbb = model_Xbb(pf_points,pf_features,pf_vectors,pf_mask)"
   ]
  },
  {
   "cell_type": "code",
   "execution_count": 37,
   "metadata": {},
   "outputs": [
    {
     "data": {
      "text/plain": [
       "torch.Size([60, 1])"
      ]
     },
     "execution_count": 37,
     "metadata": {},
     "output_type": "execute_result"
    }
   ],
   "source": [
    "preds_Xbb.shape"
   ]
  },
  {
   "cell_type": "code",
   "execution_count": 38,
   "metadata": {},
   "outputs": [],
   "source": [
    "idxmap = helpers.get_idxmap('config/train.txt')\n",
    "idxmap_val = helpers.get_idxmap('config/val.txt')\n",
    "integer_file_map = helpers.create_integer_file_map(idxmap)\n",
    "integer_file_map_val = helpers.create_integer_file_map(idxmap_val)"
   ]
  },
  {
   "cell_type": "code",
   "execution_count": 39,
   "metadata": {},
   "outputs": [
    {
     "data": {
      "text/plain": [
       "<All keys matched successfully>"
      ]
     },
     "execution_count": 39,
     "metadata": {},
     "output_type": "execute_result"
    }
   ],
   "source": [
    "model_Xbb.load_state_dict(torch.load('/Users/matthiasvigl/Xbb_lr0.01_bs512_subset0.1.pt',map_location=torch.device(device)))"
   ]
  },
  {
   "cell_type": "code",
   "execution_count": 40,
   "metadata": {},
   "outputs": [
    {
     "name": "stdout",
     "output_type": "stream",
     "text": [
      "loading weights :\n",
      "dict_keys(['mod.cls_token', 'mod.embed.input_bn.weight', 'mod.embed.input_bn.bias', 'mod.embed.input_bn.running_mean', 'mod.embed.input_bn.running_var', 'mod.embed.input_bn.num_batches_tracked', 'mod.embed.embed.0.weight', 'mod.embed.embed.0.bias', 'mod.embed.embed.1.weight', 'mod.embed.embed.1.bias', 'mod.embed.embed.3.weight', 'mod.embed.embed.3.bias', 'mod.embed.embed.4.weight', 'mod.embed.embed.4.bias', 'mod.embed.embed.6.weight', 'mod.embed.embed.6.bias', 'mod.embed.embed.7.weight', 'mod.embed.embed.7.bias', 'mod.pair_embed.embed.0.weight', 'mod.pair_embed.embed.0.bias', 'mod.pair_embed.embed.0.running_mean', 'mod.pair_embed.embed.0.running_var', 'mod.pair_embed.embed.0.num_batches_tracked', 'mod.pair_embed.embed.1.weight', 'mod.pair_embed.embed.1.bias', 'mod.pair_embed.embed.2.weight', 'mod.pair_embed.embed.2.bias', 'mod.pair_embed.embed.2.running_mean', 'mod.pair_embed.embed.2.running_var', 'mod.pair_embed.embed.2.num_batches_tracked', 'mod.pair_embed.embed.4.weight', 'mod.pair_embed.embed.4.bias', 'mod.pair_embed.embed.5.weight', 'mod.pair_embed.embed.5.bias', 'mod.pair_embed.embed.5.running_mean', 'mod.pair_embed.embed.5.running_var', 'mod.pair_embed.embed.5.num_batches_tracked', 'mod.pair_embed.embed.7.weight', 'mod.pair_embed.embed.7.bias', 'mod.pair_embed.embed.8.weight', 'mod.pair_embed.embed.8.bias', 'mod.pair_embed.embed.8.running_mean', 'mod.pair_embed.embed.8.running_var', 'mod.pair_embed.embed.8.num_batches_tracked', 'mod.pair_embed.embed.10.weight', 'mod.pair_embed.embed.10.bias', 'mod.pair_embed.embed.11.weight', 'mod.pair_embed.embed.11.bias', 'mod.pair_embed.embed.11.running_mean', 'mod.pair_embed.embed.11.running_var', 'mod.pair_embed.embed.11.num_batches_tracked', 'mod.blocks.0.c_attn', 'mod.blocks.0.w_resid', 'mod.blocks.0.pre_attn_norm.weight', 'mod.blocks.0.pre_attn_norm.bias', 'mod.blocks.0.attn.in_proj_weight', 'mod.blocks.0.attn.in_proj_bias', 'mod.blocks.0.attn.out_proj.weight', 'mod.blocks.0.attn.out_proj.bias', 'mod.blocks.0.post_attn_norm.weight', 'mod.blocks.0.post_attn_norm.bias', 'mod.blocks.0.pre_fc_norm.weight', 'mod.blocks.0.pre_fc_norm.bias', 'mod.blocks.0.fc1.weight', 'mod.blocks.0.fc1.bias', 'mod.blocks.0.post_fc_norm.weight', 'mod.blocks.0.post_fc_norm.bias', 'mod.blocks.0.fc2.weight', 'mod.blocks.0.fc2.bias', 'mod.blocks.1.c_attn', 'mod.blocks.1.w_resid', 'mod.blocks.1.pre_attn_norm.weight', 'mod.blocks.1.pre_attn_norm.bias', 'mod.blocks.1.attn.in_proj_weight', 'mod.blocks.1.attn.in_proj_bias', 'mod.blocks.1.attn.out_proj.weight', 'mod.blocks.1.attn.out_proj.bias', 'mod.blocks.1.post_attn_norm.weight', 'mod.blocks.1.post_attn_norm.bias', 'mod.blocks.1.pre_fc_norm.weight', 'mod.blocks.1.pre_fc_norm.bias', 'mod.blocks.1.fc1.weight', 'mod.blocks.1.fc1.bias', 'mod.blocks.1.post_fc_norm.weight', 'mod.blocks.1.post_fc_norm.bias', 'mod.blocks.1.fc2.weight', 'mod.blocks.1.fc2.bias', 'mod.blocks.2.c_attn', 'mod.blocks.2.w_resid', 'mod.blocks.2.pre_attn_norm.weight', 'mod.blocks.2.pre_attn_norm.bias', 'mod.blocks.2.attn.in_proj_weight', 'mod.blocks.2.attn.in_proj_bias', 'mod.blocks.2.attn.out_proj.weight', 'mod.blocks.2.attn.out_proj.bias', 'mod.blocks.2.post_attn_norm.weight', 'mod.blocks.2.post_attn_norm.bias', 'mod.blocks.2.pre_fc_norm.weight', 'mod.blocks.2.pre_fc_norm.bias', 'mod.blocks.2.fc1.weight', 'mod.blocks.2.fc1.bias', 'mod.blocks.2.post_fc_norm.weight', 'mod.blocks.2.post_fc_norm.bias', 'mod.blocks.2.fc2.weight', 'mod.blocks.2.fc2.bias', 'mod.blocks.3.c_attn', 'mod.blocks.3.w_resid', 'mod.blocks.3.pre_attn_norm.weight', 'mod.blocks.3.pre_attn_norm.bias', 'mod.blocks.3.attn.in_proj_weight', 'mod.blocks.3.attn.in_proj_bias', 'mod.blocks.3.attn.out_proj.weight', 'mod.blocks.3.attn.out_proj.bias', 'mod.blocks.3.post_attn_norm.weight', 'mod.blocks.3.post_attn_norm.bias', 'mod.blocks.3.pre_fc_norm.weight', 'mod.blocks.3.pre_fc_norm.bias', 'mod.blocks.3.fc1.weight', 'mod.blocks.3.fc1.bias', 'mod.blocks.3.post_fc_norm.weight', 'mod.blocks.3.post_fc_norm.bias', 'mod.blocks.3.fc2.weight', 'mod.blocks.3.fc2.bias', 'mod.blocks.4.c_attn', 'mod.blocks.4.w_resid', 'mod.blocks.4.pre_attn_norm.weight', 'mod.blocks.4.pre_attn_norm.bias', 'mod.blocks.4.attn.in_proj_weight', 'mod.blocks.4.attn.in_proj_bias', 'mod.blocks.4.attn.out_proj.weight', 'mod.blocks.4.attn.out_proj.bias', 'mod.blocks.4.post_attn_norm.weight', 'mod.blocks.4.post_attn_norm.bias', 'mod.blocks.4.pre_fc_norm.weight', 'mod.blocks.4.pre_fc_norm.bias', 'mod.blocks.4.fc1.weight', 'mod.blocks.4.fc1.bias', 'mod.blocks.4.post_fc_norm.weight', 'mod.blocks.4.post_fc_norm.bias', 'mod.blocks.4.fc2.weight', 'mod.blocks.4.fc2.bias', 'mod.blocks.5.c_attn', 'mod.blocks.5.w_resid', 'mod.blocks.5.pre_attn_norm.weight', 'mod.blocks.5.pre_attn_norm.bias', 'mod.blocks.5.attn.in_proj_weight', 'mod.blocks.5.attn.in_proj_bias', 'mod.blocks.5.attn.out_proj.weight', 'mod.blocks.5.attn.out_proj.bias', 'mod.blocks.5.post_attn_norm.weight', 'mod.blocks.5.post_attn_norm.bias', 'mod.blocks.5.pre_fc_norm.weight', 'mod.blocks.5.pre_fc_norm.bias', 'mod.blocks.5.fc1.weight', 'mod.blocks.5.fc1.bias', 'mod.blocks.5.post_fc_norm.weight', 'mod.blocks.5.post_fc_norm.bias', 'mod.blocks.5.fc2.weight', 'mod.blocks.5.fc2.bias', 'mod.blocks.6.c_attn', 'mod.blocks.6.w_resid', 'mod.blocks.6.pre_attn_norm.weight', 'mod.blocks.6.pre_attn_norm.bias', 'mod.blocks.6.attn.in_proj_weight', 'mod.blocks.6.attn.in_proj_bias', 'mod.blocks.6.attn.out_proj.weight', 'mod.blocks.6.attn.out_proj.bias', 'mod.blocks.6.post_attn_norm.weight', 'mod.blocks.6.post_attn_norm.bias', 'mod.blocks.6.pre_fc_norm.weight', 'mod.blocks.6.pre_fc_norm.bias', 'mod.blocks.6.fc1.weight', 'mod.blocks.6.fc1.bias', 'mod.blocks.6.post_fc_norm.weight', 'mod.blocks.6.post_fc_norm.bias', 'mod.blocks.6.fc2.weight', 'mod.blocks.6.fc2.bias', 'mod.blocks.7.c_attn', 'mod.blocks.7.w_resid', 'mod.blocks.7.pre_attn_norm.weight', 'mod.blocks.7.pre_attn_norm.bias', 'mod.blocks.7.attn.in_proj_weight', 'mod.blocks.7.attn.in_proj_bias', 'mod.blocks.7.attn.out_proj.weight', 'mod.blocks.7.attn.out_proj.bias', 'mod.blocks.7.post_attn_norm.weight', 'mod.blocks.7.post_attn_norm.bias', 'mod.blocks.7.pre_fc_norm.weight', 'mod.blocks.7.pre_fc_norm.bias', 'mod.blocks.7.fc1.weight', 'mod.blocks.7.fc1.bias', 'mod.blocks.7.post_fc_norm.weight', 'mod.blocks.7.post_fc_norm.bias', 'mod.blocks.7.fc2.weight', 'mod.blocks.7.fc2.bias', 'mod.cls_blocks.0.c_attn', 'mod.cls_blocks.0.w_resid', 'mod.cls_blocks.0.pre_attn_norm.weight', 'mod.cls_blocks.0.pre_attn_norm.bias', 'mod.cls_blocks.0.attn.in_proj_weight', 'mod.cls_blocks.0.attn.in_proj_bias', 'mod.cls_blocks.0.attn.out_proj.weight', 'mod.cls_blocks.0.attn.out_proj.bias', 'mod.cls_blocks.0.post_attn_norm.weight', 'mod.cls_blocks.0.post_attn_norm.bias', 'mod.cls_blocks.0.pre_fc_norm.weight', 'mod.cls_blocks.0.pre_fc_norm.bias', 'mod.cls_blocks.0.fc1.weight', 'mod.cls_blocks.0.fc1.bias', 'mod.cls_blocks.0.post_fc_norm.weight', 'mod.cls_blocks.0.post_fc_norm.bias', 'mod.cls_blocks.0.fc2.weight', 'mod.cls_blocks.0.fc2.bias', 'mod.cls_blocks.1.c_attn', 'mod.cls_blocks.1.w_resid', 'mod.cls_blocks.1.pre_attn_norm.weight', 'mod.cls_blocks.1.pre_attn_norm.bias', 'mod.cls_blocks.1.attn.in_proj_weight', 'mod.cls_blocks.1.attn.in_proj_bias', 'mod.cls_blocks.1.attn.out_proj.weight', 'mod.cls_blocks.1.attn.out_proj.bias', 'mod.cls_blocks.1.post_attn_norm.weight', 'mod.cls_blocks.1.post_attn_norm.bias', 'mod.cls_blocks.1.pre_fc_norm.weight', 'mod.cls_blocks.1.pre_fc_norm.bias', 'mod.cls_blocks.1.fc1.weight', 'mod.cls_blocks.1.fc1.bias', 'mod.cls_blocks.1.post_fc_norm.weight', 'mod.cls_blocks.1.post_fc_norm.bias', 'mod.cls_blocks.1.fc2.weight', 'mod.cls_blocks.1.fc2.bias', 'mod.norm.weight', 'mod.norm.bias'])\n",
      "loading weights :\n",
      "dict_keys(['mod.cls_token', 'mod.embed.input_bn.weight', 'mod.embed.input_bn.bias', 'mod.embed.input_bn.running_mean', 'mod.embed.input_bn.running_var', 'mod.embed.input_bn.num_batches_tracked', 'mod.embed.embed.0.weight', 'mod.embed.embed.0.bias', 'mod.embed.embed.1.weight', 'mod.embed.embed.1.bias', 'mod.embed.embed.3.weight', 'mod.embed.embed.3.bias', 'mod.embed.embed.4.weight', 'mod.embed.embed.4.bias', 'mod.embed.embed.6.weight', 'mod.embed.embed.6.bias', 'mod.embed.embed.7.weight', 'mod.embed.embed.7.bias', 'mod.pair_embed.embed.0.weight', 'mod.pair_embed.embed.0.bias', 'mod.pair_embed.embed.0.running_mean', 'mod.pair_embed.embed.0.running_var', 'mod.pair_embed.embed.0.num_batches_tracked', 'mod.pair_embed.embed.1.weight', 'mod.pair_embed.embed.1.bias', 'mod.pair_embed.embed.2.weight', 'mod.pair_embed.embed.2.bias', 'mod.pair_embed.embed.2.running_mean', 'mod.pair_embed.embed.2.running_var', 'mod.pair_embed.embed.2.num_batches_tracked', 'mod.pair_embed.embed.4.weight', 'mod.pair_embed.embed.4.bias', 'mod.pair_embed.embed.5.weight', 'mod.pair_embed.embed.5.bias', 'mod.pair_embed.embed.5.running_mean', 'mod.pair_embed.embed.5.running_var', 'mod.pair_embed.embed.5.num_batches_tracked', 'mod.pair_embed.embed.7.weight', 'mod.pair_embed.embed.7.bias', 'mod.pair_embed.embed.8.weight', 'mod.pair_embed.embed.8.bias', 'mod.pair_embed.embed.8.running_mean', 'mod.pair_embed.embed.8.running_var', 'mod.pair_embed.embed.8.num_batches_tracked', 'mod.pair_embed.embed.10.weight', 'mod.pair_embed.embed.10.bias', 'mod.pair_embed.embed.11.weight', 'mod.pair_embed.embed.11.bias', 'mod.pair_embed.embed.11.running_mean', 'mod.pair_embed.embed.11.running_var', 'mod.pair_embed.embed.11.num_batches_tracked', 'mod.blocks.0.c_attn', 'mod.blocks.0.w_resid', 'mod.blocks.0.pre_attn_norm.weight', 'mod.blocks.0.pre_attn_norm.bias', 'mod.blocks.0.attn.in_proj_weight', 'mod.blocks.0.attn.in_proj_bias', 'mod.blocks.0.attn.out_proj.weight', 'mod.blocks.0.attn.out_proj.bias', 'mod.blocks.0.post_attn_norm.weight', 'mod.blocks.0.post_attn_norm.bias', 'mod.blocks.0.pre_fc_norm.weight', 'mod.blocks.0.pre_fc_norm.bias', 'mod.blocks.0.fc1.weight', 'mod.blocks.0.fc1.bias', 'mod.blocks.0.post_fc_norm.weight', 'mod.blocks.0.post_fc_norm.bias', 'mod.blocks.0.fc2.weight', 'mod.blocks.0.fc2.bias', 'mod.blocks.1.c_attn', 'mod.blocks.1.w_resid', 'mod.blocks.1.pre_attn_norm.weight', 'mod.blocks.1.pre_attn_norm.bias', 'mod.blocks.1.attn.in_proj_weight', 'mod.blocks.1.attn.in_proj_bias', 'mod.blocks.1.attn.out_proj.weight', 'mod.blocks.1.attn.out_proj.bias', 'mod.blocks.1.post_attn_norm.weight', 'mod.blocks.1.post_attn_norm.bias', 'mod.blocks.1.pre_fc_norm.weight', 'mod.blocks.1.pre_fc_norm.bias', 'mod.blocks.1.fc1.weight', 'mod.blocks.1.fc1.bias', 'mod.blocks.1.post_fc_norm.weight', 'mod.blocks.1.post_fc_norm.bias', 'mod.blocks.1.fc2.weight', 'mod.blocks.1.fc2.bias', 'mod.blocks.2.c_attn', 'mod.blocks.2.w_resid', 'mod.blocks.2.pre_attn_norm.weight', 'mod.blocks.2.pre_attn_norm.bias', 'mod.blocks.2.attn.in_proj_weight', 'mod.blocks.2.attn.in_proj_bias', 'mod.blocks.2.attn.out_proj.weight', 'mod.blocks.2.attn.out_proj.bias', 'mod.blocks.2.post_attn_norm.weight', 'mod.blocks.2.post_attn_norm.bias', 'mod.blocks.2.pre_fc_norm.weight', 'mod.blocks.2.pre_fc_norm.bias', 'mod.blocks.2.fc1.weight', 'mod.blocks.2.fc1.bias', 'mod.blocks.2.post_fc_norm.weight', 'mod.blocks.2.post_fc_norm.bias', 'mod.blocks.2.fc2.weight', 'mod.blocks.2.fc2.bias', 'mod.blocks.3.c_attn', 'mod.blocks.3.w_resid', 'mod.blocks.3.pre_attn_norm.weight', 'mod.blocks.3.pre_attn_norm.bias', 'mod.blocks.3.attn.in_proj_weight', 'mod.blocks.3.attn.in_proj_bias', 'mod.blocks.3.attn.out_proj.weight', 'mod.blocks.3.attn.out_proj.bias', 'mod.blocks.3.post_attn_norm.weight', 'mod.blocks.3.post_attn_norm.bias', 'mod.blocks.3.pre_fc_norm.weight', 'mod.blocks.3.pre_fc_norm.bias', 'mod.blocks.3.fc1.weight', 'mod.blocks.3.fc1.bias', 'mod.blocks.3.post_fc_norm.weight', 'mod.blocks.3.post_fc_norm.bias', 'mod.blocks.3.fc2.weight', 'mod.blocks.3.fc2.bias', 'mod.blocks.4.c_attn', 'mod.blocks.4.w_resid', 'mod.blocks.4.pre_attn_norm.weight', 'mod.blocks.4.pre_attn_norm.bias', 'mod.blocks.4.attn.in_proj_weight', 'mod.blocks.4.attn.in_proj_bias', 'mod.blocks.4.attn.out_proj.weight', 'mod.blocks.4.attn.out_proj.bias', 'mod.blocks.4.post_attn_norm.weight', 'mod.blocks.4.post_attn_norm.bias', 'mod.blocks.4.pre_fc_norm.weight', 'mod.blocks.4.pre_fc_norm.bias', 'mod.blocks.4.fc1.weight', 'mod.blocks.4.fc1.bias', 'mod.blocks.4.post_fc_norm.weight', 'mod.blocks.4.post_fc_norm.bias', 'mod.blocks.4.fc2.weight', 'mod.blocks.4.fc2.bias', 'mod.blocks.5.c_attn', 'mod.blocks.5.w_resid', 'mod.blocks.5.pre_attn_norm.weight', 'mod.blocks.5.pre_attn_norm.bias', 'mod.blocks.5.attn.in_proj_weight', 'mod.blocks.5.attn.in_proj_bias', 'mod.blocks.5.attn.out_proj.weight', 'mod.blocks.5.attn.out_proj.bias', 'mod.blocks.5.post_attn_norm.weight', 'mod.blocks.5.post_attn_norm.bias', 'mod.blocks.5.pre_fc_norm.weight', 'mod.blocks.5.pre_fc_norm.bias', 'mod.blocks.5.fc1.weight', 'mod.blocks.5.fc1.bias', 'mod.blocks.5.post_fc_norm.weight', 'mod.blocks.5.post_fc_norm.bias', 'mod.blocks.5.fc2.weight', 'mod.blocks.5.fc2.bias', 'mod.blocks.6.c_attn', 'mod.blocks.6.w_resid', 'mod.blocks.6.pre_attn_norm.weight', 'mod.blocks.6.pre_attn_norm.bias', 'mod.blocks.6.attn.in_proj_weight', 'mod.blocks.6.attn.in_proj_bias', 'mod.blocks.6.attn.out_proj.weight', 'mod.blocks.6.attn.out_proj.bias', 'mod.blocks.6.post_attn_norm.weight', 'mod.blocks.6.post_attn_norm.bias', 'mod.blocks.6.pre_fc_norm.weight', 'mod.blocks.6.pre_fc_norm.bias', 'mod.blocks.6.fc1.weight', 'mod.blocks.6.fc1.bias', 'mod.blocks.6.post_fc_norm.weight', 'mod.blocks.6.post_fc_norm.bias', 'mod.blocks.6.fc2.weight', 'mod.blocks.6.fc2.bias', 'mod.blocks.7.c_attn', 'mod.blocks.7.w_resid', 'mod.blocks.7.pre_attn_norm.weight', 'mod.blocks.7.pre_attn_norm.bias', 'mod.blocks.7.attn.in_proj_weight', 'mod.blocks.7.attn.in_proj_bias', 'mod.blocks.7.attn.out_proj.weight', 'mod.blocks.7.attn.out_proj.bias', 'mod.blocks.7.post_attn_norm.weight', 'mod.blocks.7.post_attn_norm.bias', 'mod.blocks.7.pre_fc_norm.weight', 'mod.blocks.7.pre_fc_norm.bias', 'mod.blocks.7.fc1.weight', 'mod.blocks.7.fc1.bias', 'mod.blocks.7.post_fc_norm.weight', 'mod.blocks.7.post_fc_norm.bias', 'mod.blocks.7.fc2.weight', 'mod.blocks.7.fc2.bias', 'mod.cls_blocks.0.c_attn', 'mod.cls_blocks.0.w_resid', 'mod.cls_blocks.0.pre_attn_norm.weight', 'mod.cls_blocks.0.pre_attn_norm.bias', 'mod.cls_blocks.0.attn.in_proj_weight', 'mod.cls_blocks.0.attn.in_proj_bias', 'mod.cls_blocks.0.attn.out_proj.weight', 'mod.cls_blocks.0.attn.out_proj.bias', 'mod.cls_blocks.0.post_attn_norm.weight', 'mod.cls_blocks.0.post_attn_norm.bias', 'mod.cls_blocks.0.pre_fc_norm.weight', 'mod.cls_blocks.0.pre_fc_norm.bias', 'mod.cls_blocks.0.fc1.weight', 'mod.cls_blocks.0.fc1.bias', 'mod.cls_blocks.0.post_fc_norm.weight', 'mod.cls_blocks.0.post_fc_norm.bias', 'mod.cls_blocks.0.fc2.weight', 'mod.cls_blocks.0.fc2.bias', 'mod.cls_blocks.1.c_attn', 'mod.cls_blocks.1.w_resid', 'mod.cls_blocks.1.pre_attn_norm.weight', 'mod.cls_blocks.1.pre_attn_norm.bias', 'mod.cls_blocks.1.attn.in_proj_weight', 'mod.cls_blocks.1.attn.in_proj_bias', 'mod.cls_blocks.1.attn.out_proj.weight', 'mod.cls_blocks.1.attn.out_proj.bias', 'mod.cls_blocks.1.post_attn_norm.weight', 'mod.cls_blocks.1.post_attn_norm.bias', 'mod.cls_blocks.1.pre_fc_norm.weight', 'mod.cls_blocks.1.pre_fc_norm.bias', 'mod.cls_blocks.1.fc1.weight', 'mod.cls_blocks.1.fc1.bias', 'mod.cls_blocks.1.post_fc_norm.weight', 'mod.cls_blocks.1.post_fc_norm.bias', 'mod.cls_blocks.1.fc2.weight', 'mod.cls_blocks.1.fc2.bias', 'mod.norm.weight', 'mod.norm.bias'])\n",
      "loading weights :\n",
      "dict_keys(['Xbb.0.weight', 'Xbb.0.bias', 'mod.cls_token', 'mod.embed.input_bn.weight', 'mod.embed.input_bn.bias', 'mod.embed.input_bn.running_mean', 'mod.embed.input_bn.running_var', 'mod.embed.input_bn.num_batches_tracked', 'mod.embed.embed.0.weight', 'mod.embed.embed.0.bias', 'mod.embed.embed.1.weight', 'mod.embed.embed.1.bias', 'mod.embed.embed.3.weight', 'mod.embed.embed.3.bias', 'mod.embed.embed.4.weight', 'mod.embed.embed.4.bias', 'mod.embed.embed.6.weight', 'mod.embed.embed.6.bias', 'mod.embed.embed.7.weight', 'mod.embed.embed.7.bias', 'mod.pair_embed.embed.0.weight', 'mod.pair_embed.embed.0.bias', 'mod.pair_embed.embed.0.running_mean', 'mod.pair_embed.embed.0.running_var', 'mod.pair_embed.embed.0.num_batches_tracked', 'mod.pair_embed.embed.1.weight', 'mod.pair_embed.embed.1.bias', 'mod.pair_embed.embed.2.weight', 'mod.pair_embed.embed.2.bias', 'mod.pair_embed.embed.2.running_mean', 'mod.pair_embed.embed.2.running_var', 'mod.pair_embed.embed.2.num_batches_tracked', 'mod.pair_embed.embed.4.weight', 'mod.pair_embed.embed.4.bias', 'mod.pair_embed.embed.5.weight', 'mod.pair_embed.embed.5.bias', 'mod.pair_embed.embed.5.running_mean', 'mod.pair_embed.embed.5.running_var', 'mod.pair_embed.embed.5.num_batches_tracked', 'mod.pair_embed.embed.7.weight', 'mod.pair_embed.embed.7.bias', 'mod.pair_embed.embed.8.weight', 'mod.pair_embed.embed.8.bias', 'mod.pair_embed.embed.8.running_mean', 'mod.pair_embed.embed.8.running_var', 'mod.pair_embed.embed.8.num_batches_tracked', 'mod.pair_embed.embed.10.weight', 'mod.pair_embed.embed.10.bias', 'mod.pair_embed.embed.11.weight', 'mod.pair_embed.embed.11.bias', 'mod.pair_embed.embed.11.running_mean', 'mod.pair_embed.embed.11.running_var', 'mod.pair_embed.embed.11.num_batches_tracked', 'mod.blocks.0.c_attn', 'mod.blocks.0.w_resid', 'mod.blocks.0.pre_attn_norm.weight', 'mod.blocks.0.pre_attn_norm.bias', 'mod.blocks.0.attn.in_proj_weight', 'mod.blocks.0.attn.in_proj_bias', 'mod.blocks.0.attn.out_proj.weight', 'mod.blocks.0.attn.out_proj.bias', 'mod.blocks.0.post_attn_norm.weight', 'mod.blocks.0.post_attn_norm.bias', 'mod.blocks.0.pre_fc_norm.weight', 'mod.blocks.0.pre_fc_norm.bias', 'mod.blocks.0.fc1.weight', 'mod.blocks.0.fc1.bias', 'mod.blocks.0.post_fc_norm.weight', 'mod.blocks.0.post_fc_norm.bias', 'mod.blocks.0.fc2.weight', 'mod.blocks.0.fc2.bias', 'mod.blocks.1.c_attn', 'mod.blocks.1.w_resid', 'mod.blocks.1.pre_attn_norm.weight', 'mod.blocks.1.pre_attn_norm.bias', 'mod.blocks.1.attn.in_proj_weight', 'mod.blocks.1.attn.in_proj_bias', 'mod.blocks.1.attn.out_proj.weight', 'mod.blocks.1.attn.out_proj.bias', 'mod.blocks.1.post_attn_norm.weight', 'mod.blocks.1.post_attn_norm.bias', 'mod.blocks.1.pre_fc_norm.weight', 'mod.blocks.1.pre_fc_norm.bias', 'mod.blocks.1.fc1.weight', 'mod.blocks.1.fc1.bias', 'mod.blocks.1.post_fc_norm.weight', 'mod.blocks.1.post_fc_norm.bias', 'mod.blocks.1.fc2.weight', 'mod.blocks.1.fc2.bias', 'mod.blocks.2.c_attn', 'mod.blocks.2.w_resid', 'mod.blocks.2.pre_attn_norm.weight', 'mod.blocks.2.pre_attn_norm.bias', 'mod.blocks.2.attn.in_proj_weight', 'mod.blocks.2.attn.in_proj_bias', 'mod.blocks.2.attn.out_proj.weight', 'mod.blocks.2.attn.out_proj.bias', 'mod.blocks.2.post_attn_norm.weight', 'mod.blocks.2.post_attn_norm.bias', 'mod.blocks.2.pre_fc_norm.weight', 'mod.blocks.2.pre_fc_norm.bias', 'mod.blocks.2.fc1.weight', 'mod.blocks.2.fc1.bias', 'mod.blocks.2.post_fc_norm.weight', 'mod.blocks.2.post_fc_norm.bias', 'mod.blocks.2.fc2.weight', 'mod.blocks.2.fc2.bias', 'mod.blocks.3.c_attn', 'mod.blocks.3.w_resid', 'mod.blocks.3.pre_attn_norm.weight', 'mod.blocks.3.pre_attn_norm.bias', 'mod.blocks.3.attn.in_proj_weight', 'mod.blocks.3.attn.in_proj_bias', 'mod.blocks.3.attn.out_proj.weight', 'mod.blocks.3.attn.out_proj.bias', 'mod.blocks.3.post_attn_norm.weight', 'mod.blocks.3.post_attn_norm.bias', 'mod.blocks.3.pre_fc_norm.weight', 'mod.blocks.3.pre_fc_norm.bias', 'mod.blocks.3.fc1.weight', 'mod.blocks.3.fc1.bias', 'mod.blocks.3.post_fc_norm.weight', 'mod.blocks.3.post_fc_norm.bias', 'mod.blocks.3.fc2.weight', 'mod.blocks.3.fc2.bias', 'mod.blocks.4.c_attn', 'mod.blocks.4.w_resid', 'mod.blocks.4.pre_attn_norm.weight', 'mod.blocks.4.pre_attn_norm.bias', 'mod.blocks.4.attn.in_proj_weight', 'mod.blocks.4.attn.in_proj_bias', 'mod.blocks.4.attn.out_proj.weight', 'mod.blocks.4.attn.out_proj.bias', 'mod.blocks.4.post_attn_norm.weight', 'mod.blocks.4.post_attn_norm.bias', 'mod.blocks.4.pre_fc_norm.weight', 'mod.blocks.4.pre_fc_norm.bias', 'mod.blocks.4.fc1.weight', 'mod.blocks.4.fc1.bias', 'mod.blocks.4.post_fc_norm.weight', 'mod.blocks.4.post_fc_norm.bias', 'mod.blocks.4.fc2.weight', 'mod.blocks.4.fc2.bias', 'mod.blocks.5.c_attn', 'mod.blocks.5.w_resid', 'mod.blocks.5.pre_attn_norm.weight', 'mod.blocks.5.pre_attn_norm.bias', 'mod.blocks.5.attn.in_proj_weight', 'mod.blocks.5.attn.in_proj_bias', 'mod.blocks.5.attn.out_proj.weight', 'mod.blocks.5.attn.out_proj.bias', 'mod.blocks.5.post_attn_norm.weight', 'mod.blocks.5.post_attn_norm.bias', 'mod.blocks.5.pre_fc_norm.weight', 'mod.blocks.5.pre_fc_norm.bias', 'mod.blocks.5.fc1.weight', 'mod.blocks.5.fc1.bias', 'mod.blocks.5.post_fc_norm.weight', 'mod.blocks.5.post_fc_norm.bias', 'mod.blocks.5.fc2.weight', 'mod.blocks.5.fc2.bias', 'mod.blocks.6.c_attn', 'mod.blocks.6.w_resid', 'mod.blocks.6.pre_attn_norm.weight', 'mod.blocks.6.pre_attn_norm.bias', 'mod.blocks.6.attn.in_proj_weight', 'mod.blocks.6.attn.in_proj_bias', 'mod.blocks.6.attn.out_proj.weight', 'mod.blocks.6.attn.out_proj.bias', 'mod.blocks.6.post_attn_norm.weight', 'mod.blocks.6.post_attn_norm.bias', 'mod.blocks.6.pre_fc_norm.weight', 'mod.blocks.6.pre_fc_norm.bias', 'mod.blocks.6.fc1.weight', 'mod.blocks.6.fc1.bias', 'mod.blocks.6.post_fc_norm.weight', 'mod.blocks.6.post_fc_norm.bias', 'mod.blocks.6.fc2.weight', 'mod.blocks.6.fc2.bias', 'mod.blocks.7.c_attn', 'mod.blocks.7.w_resid', 'mod.blocks.7.pre_attn_norm.weight', 'mod.blocks.7.pre_attn_norm.bias', 'mod.blocks.7.attn.in_proj_weight', 'mod.blocks.7.attn.in_proj_bias', 'mod.blocks.7.attn.out_proj.weight', 'mod.blocks.7.attn.out_proj.bias', 'mod.blocks.7.post_attn_norm.weight', 'mod.blocks.7.post_attn_norm.bias', 'mod.blocks.7.pre_fc_norm.weight', 'mod.blocks.7.pre_fc_norm.bias', 'mod.blocks.7.fc1.weight', 'mod.blocks.7.fc1.bias', 'mod.blocks.7.post_fc_norm.weight', 'mod.blocks.7.post_fc_norm.bias', 'mod.blocks.7.fc2.weight', 'mod.blocks.7.fc2.bias', 'mod.cls_blocks.0.c_attn', 'mod.cls_blocks.0.w_resid', 'mod.cls_blocks.0.pre_attn_norm.weight', 'mod.cls_blocks.0.pre_attn_norm.bias', 'mod.cls_blocks.0.attn.in_proj_weight', 'mod.cls_blocks.0.attn.in_proj_bias', 'mod.cls_blocks.0.attn.out_proj.weight', 'mod.cls_blocks.0.attn.out_proj.bias', 'mod.cls_blocks.0.post_attn_norm.weight', 'mod.cls_blocks.0.post_attn_norm.bias', 'mod.cls_blocks.0.pre_fc_norm.weight', 'mod.cls_blocks.0.pre_fc_norm.bias', 'mod.cls_blocks.0.fc1.weight', 'mod.cls_blocks.0.fc1.bias', 'mod.cls_blocks.0.post_fc_norm.weight', 'mod.cls_blocks.0.post_fc_norm.bias', 'mod.cls_blocks.0.fc2.weight', 'mod.cls_blocks.0.fc2.bias', 'mod.cls_blocks.1.c_attn', 'mod.cls_blocks.1.w_resid', 'mod.cls_blocks.1.pre_attn_norm.weight', 'mod.cls_blocks.1.pre_attn_norm.bias', 'mod.cls_blocks.1.attn.in_proj_weight', 'mod.cls_blocks.1.attn.in_proj_bias', 'mod.cls_blocks.1.attn.out_proj.weight', 'mod.cls_blocks.1.attn.out_proj.bias', 'mod.cls_blocks.1.post_attn_norm.weight', 'mod.cls_blocks.1.post_attn_norm.bias', 'mod.cls_blocks.1.pre_fc_norm.weight', 'mod.cls_blocks.1.pre_fc_norm.bias', 'mod.cls_blocks.1.fc1.weight', 'mod.cls_blocks.1.fc1.bias', 'mod.cls_blocks.1.post_fc_norm.weight', 'mod.cls_blocks.1.post_fc_norm.bias', 'mod.cls_blocks.1.fc2.weight', 'mod.cls_blocks.1.fc2.bias', 'mod.norm.weight', 'mod.norm.bias'])\n",
      "loading weights :\n",
      "dict_keys(['Xbb.0.weight', 'Xbb.0.bias', 'mod.cls_token', 'mod.embed.input_bn.weight', 'mod.embed.input_bn.bias', 'mod.embed.input_bn.running_mean', 'mod.embed.input_bn.running_var', 'mod.embed.input_bn.num_batches_tracked', 'mod.embed.embed.0.weight', 'mod.embed.embed.0.bias', 'mod.embed.embed.1.weight', 'mod.embed.embed.1.bias', 'mod.embed.embed.3.weight', 'mod.embed.embed.3.bias', 'mod.embed.embed.4.weight', 'mod.embed.embed.4.bias', 'mod.embed.embed.6.weight', 'mod.embed.embed.6.bias', 'mod.embed.embed.7.weight', 'mod.embed.embed.7.bias', 'mod.pair_embed.embed.0.weight', 'mod.pair_embed.embed.0.bias', 'mod.pair_embed.embed.0.running_mean', 'mod.pair_embed.embed.0.running_var', 'mod.pair_embed.embed.0.num_batches_tracked', 'mod.pair_embed.embed.1.weight', 'mod.pair_embed.embed.1.bias', 'mod.pair_embed.embed.2.weight', 'mod.pair_embed.embed.2.bias', 'mod.pair_embed.embed.2.running_mean', 'mod.pair_embed.embed.2.running_var', 'mod.pair_embed.embed.2.num_batches_tracked', 'mod.pair_embed.embed.4.weight', 'mod.pair_embed.embed.4.bias', 'mod.pair_embed.embed.5.weight', 'mod.pair_embed.embed.5.bias', 'mod.pair_embed.embed.5.running_mean', 'mod.pair_embed.embed.5.running_var', 'mod.pair_embed.embed.5.num_batches_tracked', 'mod.pair_embed.embed.7.weight', 'mod.pair_embed.embed.7.bias', 'mod.pair_embed.embed.8.weight', 'mod.pair_embed.embed.8.bias', 'mod.pair_embed.embed.8.running_mean', 'mod.pair_embed.embed.8.running_var', 'mod.pair_embed.embed.8.num_batches_tracked', 'mod.pair_embed.embed.10.weight', 'mod.pair_embed.embed.10.bias', 'mod.pair_embed.embed.11.weight', 'mod.pair_embed.embed.11.bias', 'mod.pair_embed.embed.11.running_mean', 'mod.pair_embed.embed.11.running_var', 'mod.pair_embed.embed.11.num_batches_tracked', 'mod.blocks.0.c_attn', 'mod.blocks.0.w_resid', 'mod.blocks.0.pre_attn_norm.weight', 'mod.blocks.0.pre_attn_norm.bias', 'mod.blocks.0.attn.in_proj_weight', 'mod.blocks.0.attn.in_proj_bias', 'mod.blocks.0.attn.out_proj.weight', 'mod.blocks.0.attn.out_proj.bias', 'mod.blocks.0.post_attn_norm.weight', 'mod.blocks.0.post_attn_norm.bias', 'mod.blocks.0.pre_fc_norm.weight', 'mod.blocks.0.pre_fc_norm.bias', 'mod.blocks.0.fc1.weight', 'mod.blocks.0.fc1.bias', 'mod.blocks.0.post_fc_norm.weight', 'mod.blocks.0.post_fc_norm.bias', 'mod.blocks.0.fc2.weight', 'mod.blocks.0.fc2.bias', 'mod.blocks.1.c_attn', 'mod.blocks.1.w_resid', 'mod.blocks.1.pre_attn_norm.weight', 'mod.blocks.1.pre_attn_norm.bias', 'mod.blocks.1.attn.in_proj_weight', 'mod.blocks.1.attn.in_proj_bias', 'mod.blocks.1.attn.out_proj.weight', 'mod.blocks.1.attn.out_proj.bias', 'mod.blocks.1.post_attn_norm.weight', 'mod.blocks.1.post_attn_norm.bias', 'mod.blocks.1.pre_fc_norm.weight', 'mod.blocks.1.pre_fc_norm.bias', 'mod.blocks.1.fc1.weight', 'mod.blocks.1.fc1.bias', 'mod.blocks.1.post_fc_norm.weight', 'mod.blocks.1.post_fc_norm.bias', 'mod.blocks.1.fc2.weight', 'mod.blocks.1.fc2.bias', 'mod.blocks.2.c_attn', 'mod.blocks.2.w_resid', 'mod.blocks.2.pre_attn_norm.weight', 'mod.blocks.2.pre_attn_norm.bias', 'mod.blocks.2.attn.in_proj_weight', 'mod.blocks.2.attn.in_proj_bias', 'mod.blocks.2.attn.out_proj.weight', 'mod.blocks.2.attn.out_proj.bias', 'mod.blocks.2.post_attn_norm.weight', 'mod.blocks.2.post_attn_norm.bias', 'mod.blocks.2.pre_fc_norm.weight', 'mod.blocks.2.pre_fc_norm.bias', 'mod.blocks.2.fc1.weight', 'mod.blocks.2.fc1.bias', 'mod.blocks.2.post_fc_norm.weight', 'mod.blocks.2.post_fc_norm.bias', 'mod.blocks.2.fc2.weight', 'mod.blocks.2.fc2.bias', 'mod.blocks.3.c_attn', 'mod.blocks.3.w_resid', 'mod.blocks.3.pre_attn_norm.weight', 'mod.blocks.3.pre_attn_norm.bias', 'mod.blocks.3.attn.in_proj_weight', 'mod.blocks.3.attn.in_proj_bias', 'mod.blocks.3.attn.out_proj.weight', 'mod.blocks.3.attn.out_proj.bias', 'mod.blocks.3.post_attn_norm.weight', 'mod.blocks.3.post_attn_norm.bias', 'mod.blocks.3.pre_fc_norm.weight', 'mod.blocks.3.pre_fc_norm.bias', 'mod.blocks.3.fc1.weight', 'mod.blocks.3.fc1.bias', 'mod.blocks.3.post_fc_norm.weight', 'mod.blocks.3.post_fc_norm.bias', 'mod.blocks.3.fc2.weight', 'mod.blocks.3.fc2.bias', 'mod.blocks.4.c_attn', 'mod.blocks.4.w_resid', 'mod.blocks.4.pre_attn_norm.weight', 'mod.blocks.4.pre_attn_norm.bias', 'mod.blocks.4.attn.in_proj_weight', 'mod.blocks.4.attn.in_proj_bias', 'mod.blocks.4.attn.out_proj.weight', 'mod.blocks.4.attn.out_proj.bias', 'mod.blocks.4.post_attn_norm.weight', 'mod.blocks.4.post_attn_norm.bias', 'mod.blocks.4.pre_fc_norm.weight', 'mod.blocks.4.pre_fc_norm.bias', 'mod.blocks.4.fc1.weight', 'mod.blocks.4.fc1.bias', 'mod.blocks.4.post_fc_norm.weight', 'mod.blocks.4.post_fc_norm.bias', 'mod.blocks.4.fc2.weight', 'mod.blocks.4.fc2.bias', 'mod.blocks.5.c_attn', 'mod.blocks.5.w_resid', 'mod.blocks.5.pre_attn_norm.weight', 'mod.blocks.5.pre_attn_norm.bias', 'mod.blocks.5.attn.in_proj_weight', 'mod.blocks.5.attn.in_proj_bias', 'mod.blocks.5.attn.out_proj.weight', 'mod.blocks.5.attn.out_proj.bias', 'mod.blocks.5.post_attn_norm.weight', 'mod.blocks.5.post_attn_norm.bias', 'mod.blocks.5.pre_fc_norm.weight', 'mod.blocks.5.pre_fc_norm.bias', 'mod.blocks.5.fc1.weight', 'mod.blocks.5.fc1.bias', 'mod.blocks.5.post_fc_norm.weight', 'mod.blocks.5.post_fc_norm.bias', 'mod.blocks.5.fc2.weight', 'mod.blocks.5.fc2.bias', 'mod.blocks.6.c_attn', 'mod.blocks.6.w_resid', 'mod.blocks.6.pre_attn_norm.weight', 'mod.blocks.6.pre_attn_norm.bias', 'mod.blocks.6.attn.in_proj_weight', 'mod.blocks.6.attn.in_proj_bias', 'mod.blocks.6.attn.out_proj.weight', 'mod.blocks.6.attn.out_proj.bias', 'mod.blocks.6.post_attn_norm.weight', 'mod.blocks.6.post_attn_norm.bias', 'mod.blocks.6.pre_fc_norm.weight', 'mod.blocks.6.pre_fc_norm.bias', 'mod.blocks.6.fc1.weight', 'mod.blocks.6.fc1.bias', 'mod.blocks.6.post_fc_norm.weight', 'mod.blocks.6.post_fc_norm.bias', 'mod.blocks.6.fc2.weight', 'mod.blocks.6.fc2.bias', 'mod.blocks.7.c_attn', 'mod.blocks.7.w_resid', 'mod.blocks.7.pre_attn_norm.weight', 'mod.blocks.7.pre_attn_norm.bias', 'mod.blocks.7.attn.in_proj_weight', 'mod.blocks.7.attn.in_proj_bias', 'mod.blocks.7.attn.out_proj.weight', 'mod.blocks.7.attn.out_proj.bias', 'mod.blocks.7.post_attn_norm.weight', 'mod.blocks.7.post_attn_norm.bias', 'mod.blocks.7.pre_fc_norm.weight', 'mod.blocks.7.pre_fc_norm.bias', 'mod.blocks.7.fc1.weight', 'mod.blocks.7.fc1.bias', 'mod.blocks.7.post_fc_norm.weight', 'mod.blocks.7.post_fc_norm.bias', 'mod.blocks.7.fc2.weight', 'mod.blocks.7.fc2.bias', 'mod.cls_blocks.0.c_attn', 'mod.cls_blocks.0.w_resid', 'mod.cls_blocks.0.pre_attn_norm.weight', 'mod.cls_blocks.0.pre_attn_norm.bias', 'mod.cls_blocks.0.attn.in_proj_weight', 'mod.cls_blocks.0.attn.in_proj_bias', 'mod.cls_blocks.0.attn.out_proj.weight', 'mod.cls_blocks.0.attn.out_proj.bias', 'mod.cls_blocks.0.post_attn_norm.weight', 'mod.cls_blocks.0.post_attn_norm.bias', 'mod.cls_blocks.0.pre_fc_norm.weight', 'mod.cls_blocks.0.pre_fc_norm.bias', 'mod.cls_blocks.0.fc1.weight', 'mod.cls_blocks.0.fc1.bias', 'mod.cls_blocks.0.post_fc_norm.weight', 'mod.cls_blocks.0.post_fc_norm.bias', 'mod.cls_blocks.0.fc2.weight', 'mod.cls_blocks.0.fc2.bias', 'mod.cls_blocks.1.c_attn', 'mod.cls_blocks.1.w_resid', 'mod.cls_blocks.1.pre_attn_norm.weight', 'mod.cls_blocks.1.pre_attn_norm.bias', 'mod.cls_blocks.1.attn.in_proj_weight', 'mod.cls_blocks.1.attn.in_proj_bias', 'mod.cls_blocks.1.attn.out_proj.weight', 'mod.cls_blocks.1.attn.out_proj.bias', 'mod.cls_blocks.1.post_attn_norm.weight', 'mod.cls_blocks.1.post_attn_norm.bias', 'mod.cls_blocks.1.pre_fc_norm.weight', 'mod.cls_blocks.1.pre_fc_norm.bias', 'mod.cls_blocks.1.fc1.weight', 'mod.cls_blocks.1.fc1.bias', 'mod.cls_blocks.1.post_fc_norm.weight', 'mod.cls_blocks.1.post_fc_norm.bias', 'mod.cls_blocks.1.fc2.weight', 'mod.cls_blocks.1.fc2.bias', 'mod.norm.weight', 'mod.norm.bias'])\n"
     ]
    }
   ],
   "source": [
    "model_latent = helpers.load_weights(model_latent,'/Users/matthiasvigl/Xbb_lr0.01_bs512_subset0.1.pt',device)\n",
    "model_latent_hlf = helpers.load_weights(model_latent_hlf,'/Users/matthiasvigl/Xbb_lr0.01_bs512_subset0.1.pt',device)\n",
    "model_Xbb_hlf = helpers.load_weights(model_Xbb_hlf,'/Users/matthiasvigl/Xbb_lr0.01_bs512_subset0.1.pt',device)\n",
    "model_Xbb = helpers.load_weights(model_Xbb,'/Users/matthiasvigl/Xbb_lr0.01_bs512_subset0.1.pt',device)"
   ]
  },
  {
   "cell_type": "code",
   "execution_count": 41,
   "metadata": {},
   "outputs": [],
   "source": [
    "with torch.no_grad():\n",
    "    model_Xbb.eval()\n",
    "    preds_Xbb = model_Xbb(pf_points,pf_features,pf_vectors,pf_mask)\n",
    "    preds_Xbb_bkg = model_Xbb(pf_points_bkg,pf_features_bkg,pf_vectors_bkg,pf_mask_bkg)"
   ]
  },
  {
   "cell_type": "code",
   "execution_count": 42,
   "metadata": {},
   "outputs": [
    {
     "data": {
      "text/plain": [
       "(array([75.,  7.,  1.,  4.,  1.,  1.,  0.,  1.,  0.,  0.,  0.,  0.,  0.,\n",
       "         0.,  0.,  0.,  0.,  0.,  0.,  0.,  0.,  0.,  0.,  1.,  0.,  0.,\n",
       "         0.,  0.,  0.,  0.,  0.,  0.,  1.,  1.,  0.,  0.,  0.,  0.,  0.,\n",
       "         0.,  0.,  0.,  0.,  0.,  0.,  0.,  2.,  0.,  0.,  0.,  0.,  1.,\n",
       "         0.,  0.,  1.,  0.,  0.,  0.,  0.,  0.,  0.,  1.,  0.,  1.,  0.,\n",
       "         0.,  0.,  0.,  0.,  0.,  0.,  0.,  0.,  0.,  0.,  0.,  0.,  0.,\n",
       "         0.,  0.,  0.,  0.,  0.,  0.,  1.,  0.,  0.,  0.,  0.,  0.,  0.,\n",
       "         0.,  0.,  0.,  0.,  0.,  0.,  0.,  0.,  0.]),\n",
       " array([0.  , 0.01, 0.02, 0.03, 0.04, 0.05, 0.06, 0.07, 0.08, 0.09, 0.1 ,\n",
       "        0.11, 0.12, 0.13, 0.14, 0.15, 0.16, 0.17, 0.18, 0.19, 0.2 , 0.21,\n",
       "        0.22, 0.23, 0.24, 0.25, 0.26, 0.27, 0.28, 0.29, 0.3 , 0.31, 0.32,\n",
       "        0.33, 0.34, 0.35, 0.36, 0.37, 0.38, 0.39, 0.4 , 0.41, 0.42, 0.43,\n",
       "        0.44, 0.45, 0.46, 0.47, 0.48, 0.49, 0.5 , 0.51, 0.52, 0.53, 0.54,\n",
       "        0.55, 0.56, 0.57, 0.58, 0.59, 0.6 , 0.61, 0.62, 0.63, 0.64, 0.65,\n",
       "        0.66, 0.67, 0.68, 0.69, 0.7 , 0.71, 0.72, 0.73, 0.74, 0.75, 0.76,\n",
       "        0.77, 0.78, 0.79, 0.8 , 0.81, 0.82, 0.83, 0.84, 0.85, 0.86, 0.87,\n",
       "        0.88, 0.89, 0.9 , 0.91, 0.92, 0.93, 0.94, 0.95, 0.96, 0.97, 0.98,\n",
       "        0.99, 1.  ]),\n",
       " [<matplotlib.patches.Polygon at 0x157c443d0>])"
      ]
     },
     "execution_count": 42,
     "metadata": {},
     "output_type": "execute_result"
    },
    {
     "data": {
      "image/png": "[encoded data removed]",
      "text/plain": [
       "<Figure size 640x480 with 1 Axes>"
      ]
     },
     "metadata": {},
     "output_type": "display_data"
    }
   ],
   "source": [
    "b=np.linspace(0,1,101)\n",
    "fig, ax = plt.subplots()\n",
    "ax.hist(preds_Xbb.detach().numpy(), lw=0.8,bins=b,histtype='step', density=True, alpha=0.7)\n",
    "ax.hist(preds_Xbb_bkg.detach().numpy(), lw=0.8,bins=b,histtype='step', density=True, alpha=0.7)"
   ]
  }
 ],
 "metadata": {
  "kernelspec": {
   "display_name": "Python 3",
   "language": "python",
   "name": "python3"
  },
  "language_info": {
   "codemirror_mode": {
    "name": "ipython",
    "version": 3
   },
   "file_extension": ".py",
   "mimetype": "text/x-python",
   "name": "python",
   "nbconvert_exporter": "python",
   "pygments_lexer": "ipython3",
   "version": "3.9.6"
  }
 },
 "nbformat": 4,
 "nbformat_minor": 2
}
