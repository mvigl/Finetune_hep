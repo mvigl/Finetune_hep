{
 "cells": [
  {
   "cell_type": "code",
   "execution_count": 43,
   "metadata": {},
   "outputs": [
    {
     "name": "stdout",
     "output_type": "stream",
     "text": [
      "cpu\n"
     ]
    }
   ],
   "source": [
    "import numpy as np\n",
    "import torch\n",
    "from comet_ml import Experiment,ExistingExperiment\n",
    "from comet_ml.integration.pytorch import log_model\n",
    "import yaml\n",
    "import h5py\n",
    "import matplotlib.pyplot as plt\n",
    "from Finetune_hep.python import train,helpers,models\n",
    "\n",
    "device = helpers.get_device()\n",
    "print(device)"
   ]
  },
  {
   "cell_type": "markdown",
   "metadata": {},
   "source": [
    "# **Models**"
   ]
  },
  {
   "cell_type": "markdown",
   "metadata": {},
   "source": [
    "The networks consist of a reconstruction-level network (`backbone`) for jets that operates on constituents, to which output we can add high-level features (`HLF`). These representations of all jets within the event then enter a permutation-invariant analysis-level network (`head`)."
   ]
  },
  {
   "cell_type": "markdown",
   "metadata": {},
   "source": [
    "<img src=\"figures/Architectures-color-title.png\" alt=\"Alt text\" width=\"500\">"
   ]
  },
  {
   "cell_type": "markdown",
   "metadata": {},
   "source": [
    "from `models.py` one can load 2(+2) types of models by passing a `config/config_file.yaml`:\n",
    "1) backbone\n",
    " - `config/ParT_Xbb_config.yaml` will build the ParT Jet backbone with final linear layer projecting to a scalar value, to be (pre-)trained on the Xbb task\n",
    "2) end-to-end models\n",
    "- `config/ParT_<JetRepresentation>_config.yaml` will build the end-to-end model with a given intermediate representation of the ParT Jet backbone.\n",
    "    - JetRepresentation = `latent`(V-only),`latent_hlf`(V+HLF),`Xbb_hlf`(S+HLF) "
   ]
  },
  {
   "cell_type": "code",
   "execution_count": 44,
   "metadata": {},
   "outputs": [],
   "source": [
    "data_config_Xbb = 'config/ParT_Xbb_config.yaml'\n",
    "data_config_latent = 'config/ParT_latent_config.yaml'\n",
    "data_config_latent_hlf = 'config/ParT_latent_hlf_config.yaml'\n",
    "data_config_Xbb_hlf = 'config/ParT_Xbb_hlf_config.yaml'"
   ]
  },
  {
   "cell_type": "markdown",
   "metadata": {},
   "source": [
    "# **Dataset**"
   ]
  },
  {
   "cell_type": "markdown",
   "metadata": {},
   "source": [
    "the dataset can be found here https://cernbox.cern.ch/s/EDo8Z9FY1ZOewZT\n",
    "- it's essentially a reshape of this jet-wise dataset http://opendata.cern.ch/record/12102\n",
    "\n",
    "the first step is to zero-pad the empy pf features and missing jets: the script `run_H5_full.py` does the job by selecting events with 2>=njets<=5 and zero padding saving to `.h5`"
   ]
  },
  {
   "cell_type": "markdown",
   "metadata": {},
   "source": [
    "note: having the zero padding as preprocessing makes the whole dataset ~3.5T and batch sampling quite slow => todo: revisit this or zeropad after sampling"
   ]
  },
  {
   "cell_type": "code",
   "execution_count": 76,
   "metadata": {},
   "outputs": [
    {
     "name": "stdout",
     "output_type": "stream",
     "text": [
      "<TTree 'tree' (152 branches) at 0x00013206fc50>\n",
      "0.6421319796954315\n",
      "batch number 1 out of 1\n",
      "759 events\n",
      "2\n",
      "2\n",
      "(15, 608, 2, 100)\n",
      "3\n",
      "3\n",
      "(15, 136, 3, 100)\n",
      "4\n",
      "4\n",
      "(15, 12, 4, 100)\n",
      "5\n",
      "5\n",
      "(15, 3, 5, 100)\n",
      "1.0\n"
     ]
    }
   ],
   "source": [
    "#signal sample with Xm=600\n",
    "!python python/H5_full.py --fname data/root/Sig_4.root --mass 600 --mess {str(4)} --out data/h5/ --testonly"
   ]
  },
  {
   "cell_type": "code",
   "execution_count": 101,
   "metadata": {},
   "outputs": [
    {
     "name": "stdout",
     "output_type": "stream",
     "text": [
      "<TTree 'tree' (152 branches) at 0x00014fca9890>\n",
      "1.0\n",
      "batch number 1 out of 1\n",
      "2394 events\n",
      "2\n",
      "2\n",
      "(15, 1873, 2, 100)\n",
      "3\n",
      "3\n",
      "(15, 451, 3, 100)\n",
      "4\n",
      "4\n",
      "(15, 63, 4, 100)\n",
      "5\n",
      "5\n",
      "(15, 7, 5, 100)\n",
      "1.0\n"
     ]
    }
   ],
   "source": [
    "#bkg sample (Xm=0)\n",
    "!python python/H5_full.py --fname data/root/Bkg_344.root --mass 0 --mess {str(344)} --out data/h5/ --testonly --bkg"
   ]
  },
  {
   "cell_type": "markdown",
   "metadata": {},
   "source": [
    "the output `.h5` file will look like this (train/val/test split is 80/10/10)"
   ]
  },
  {
   "cell_type": "code",
   "execution_count": 46,
   "metadata": {},
   "outputs": [
    {
     "name": "stdout",
     "output_type": "stream",
     "text": [
      "<KeysViewHDF5 ['X_jet', 'X_jet_singlejet', 'X_label', 'X_label_singlejet', 'X_pfo', 'X_pfo_singlejet', 'jet_mask', 'labels', 'mass_param']>\n",
      "(607, 5, 6)\n",
      "['fj_pt', 'fj_eta', 'fj_doubleb', 'fj_phi', 'fj_mass', 'fj_sdmass']\n",
      "(607, 5, 100, 15)\n",
      "['pfcand_ptrel', 'pfcand_erel', 'pfcand_etarel', 'pfcand_phirel', 'pfcand_dxy', 'pfcand_dxysig', 'pfcand_dz', 'pfcand_dzsig', 'pfcand_deltaR', 'pfcand_charge', 'pfcand_isChargedHad', 'pfcand_isNeutralHad', 'pfcand_isGamma', 'pfcand_isEl', 'pfcand_isMu']\n",
      "(607, 5, 6)\n",
      "['label_QCD_b', 'label_QCD_bb', 'label_QCD_c', 'label_QCD_cc', 'label_QCD_others', 'label_H_bb']\n"
     ]
    }
   ],
   "source": [
    "with h5py.File('data/h5/Data_test_600.0_4.h5', 'r') as sample_sig:\n",
    "    print(sample_sig.keys())\n",
    "    print(sample_sig['X_jet'].shape)\n",
    "    print(helpers.jVars)\n",
    "    print(sample_sig['X_pfo'].shape)\n",
    "    print(helpers.pVars)\n",
    "    print(sample_sig['X_label'].shape)\n",
    "    print(helpers.labelVars)        "
   ]
  },
  {
   "cell_type": "markdown",
   "metadata": {},
   "source": [
    "Finally, to build the inputs for ParT, defined in the paper, we can use `build_features_and_labels_Xbb` (if we are preparing inputs for the Xbb jet backbone) or `build_features_and_labels` (if we want to pass the inputs to the end-to-end model) - more later"
   ]
  },
  {
   "cell_type": "code",
   "execution_count": 47,
   "metadata": {},
   "outputs": [
    {
     "name": "stdout",
     "output_type": "stream",
     "text": [
      "dict_keys(['pf_points', 'pf_features', 'pf_vectors', 'pf_mask', 'label'])\n"
     ]
    }
   ],
   "source": [
    "with h5py.File('data/h5/Data_test_600.0_4.h5', 'r') as sample_sig:\n",
    "    data_Xbb = {}\n",
    "    data_Xbb['X_jet'] = sample_sig['X_jet_singlejet'][:]\n",
    "    data_Xbb['X_pfo'] = sample_sig['X_pfo_singlejet'][:]\n",
    "    data_Xbb['labels'] = sample_sig['X_label_singlejet'][:]\n",
    "    inputs_Xbb = helpers.build_features_and_labels_Xbb(data_Xbb)\n",
    "print(inputs_Xbb.keys())    "
   ]
  },
  {
   "cell_type": "markdown",
   "metadata": {},
   "source": [
    "in the training script (`training.py`) the inputs are prepared automatically based on the config file"
   ]
  },
  {
   "cell_type": "markdown",
   "metadata": {},
   "source": [
    "# **Backbone Xbb pre-training**"
   ]
  },
  {
   "cell_type": "markdown",
   "metadata": {},
   "source": [
    "first build the model by passing the config file with \n",
    "- `for_inference=False`: this removes the sigmoid (included in the loss for better numerical stability)\n",
    "- `save_representaions=False`: setting this to true skips the linear layer projecting the 128 vector representation to 1 scalar in the forward pass - useful at inference step if the event head is then trained on this frozen representation"
   ]
  },
  {
   "cell_type": "code",
   "execution_count": 48,
   "metadata": {},
   "outputs": [],
   "source": [
    "model_Xbb = models.full_model(data_config_Xbb,for_inference=False,save_representaions=False)  "
   ]
  },
  {
   "cell_type": "markdown",
   "metadata": {},
   "source": [
    "`model.Task` shows the training target (will also be picked up by the training script)"
   ]
  },
  {
   "cell_type": "code",
   "execution_count": 49,
   "metadata": {},
   "outputs": [
    {
     "data": {
      "text/plain": [
       "'Xbb'"
      ]
     },
     "execution_count": 49,
     "metadata": {},
     "output_type": "execute_result"
    }
   ],
   "source": [
    "model_Xbb.Task"
   ]
  },
  {
   "cell_type": "markdown",
   "metadata": {},
   "source": [
    "to train the model one needs to run the `training.py` script (see `config/slurm` examples) - remember to put your comet `api_key` and `ws`\n",
    "- let's assume here the model is already trained and just get the scores on the test set. This is normally done with the `save_scores.py` script"
   ]
  },
  {
   "cell_type": "markdown",
   "metadata": {},
   "source": [
    "- load the weights (note `for_inference=True`) - the loading function will copy only the weight w/ the same name between the two models, so it can also be used to load the backbone weights in the end-to-end models"
   ]
  },
  {
   "cell_type": "code",
   "execution_count": 78,
   "metadata": {},
   "outputs": [
    {
     "name": "stdout",
     "output_type": "stream",
     "text": [
      "loading weights :\n",
      "dict_keys(['Xbb.0.weight', 'Xbb.0.bias', 'mod.cls_token', 'mod.embed.input_bn.weight', 'mod.embed.input_bn.bias', 'mod.embed.input_bn.running_mean', 'mod.embed.input_bn.running_var', 'mod.embed.input_bn.num_batches_tracked', 'mod.embed.embed.0.weight', 'mod.embed.embed.0.bias', 'mod.embed.embed.1.weight', 'mod.embed.embed.1.bias', 'mod.embed.embed.3.weight', 'mod.embed.embed.3.bias', 'mod.embed.embed.4.weight', 'mod.embed.embed.4.bias', 'mod.embed.embed.6.weight', 'mod.embed.embed.6.bias', 'mod.embed.embed.7.weight', 'mod.embed.embed.7.bias', 'mod.pair_embed.embed.0.weight', 'mod.pair_embed.embed.0.bias', 'mod.pair_embed.embed.0.running_mean', 'mod.pair_embed.embed.0.running_var', 'mod.pair_embed.embed.0.num_batches_tracked', 'mod.pair_embed.embed.1.weight', 'mod.pair_embed.embed.1.bias', 'mod.pair_embed.embed.2.weight', 'mod.pair_embed.embed.2.bias', 'mod.pair_embed.embed.2.running_mean', 'mod.pair_embed.embed.2.running_var', 'mod.pair_embed.embed.2.num_batches_tracked', 'mod.pair_embed.embed.4.weight', 'mod.pair_embed.embed.4.bias', 'mod.pair_embed.embed.5.weight', 'mod.pair_embed.embed.5.bias', 'mod.pair_embed.embed.5.running_mean', 'mod.pair_embed.embed.5.running_var', 'mod.pair_embed.embed.5.num_batches_tracked', 'mod.pair_embed.embed.7.weight', 'mod.pair_embed.embed.7.bias', 'mod.pair_embed.embed.8.weight', 'mod.pair_embed.embed.8.bias', 'mod.pair_embed.embed.8.running_mean', 'mod.pair_embed.embed.8.running_var', 'mod.pair_embed.embed.8.num_batches_tracked', 'mod.pair_embed.embed.10.weight', 'mod.pair_embed.embed.10.bias', 'mod.pair_embed.embed.11.weight', 'mod.pair_embed.embed.11.bias', 'mod.pair_embed.embed.11.running_mean', 'mod.pair_embed.embed.11.running_var', 'mod.pair_embed.embed.11.num_batches_tracked', 'mod.blocks.0.c_attn', 'mod.blocks.0.w_resid', 'mod.blocks.0.pre_attn_norm.weight', 'mod.blocks.0.pre_attn_norm.bias', 'mod.blocks.0.attn.in_proj_weight', 'mod.blocks.0.attn.in_proj_bias', 'mod.blocks.0.attn.out_proj.weight', 'mod.blocks.0.attn.out_proj.bias', 'mod.blocks.0.post_attn_norm.weight', 'mod.blocks.0.post_attn_norm.bias', 'mod.blocks.0.pre_fc_norm.weight', 'mod.blocks.0.pre_fc_norm.bias', 'mod.blocks.0.fc1.weight', 'mod.blocks.0.fc1.bias', 'mod.blocks.0.post_fc_norm.weight', 'mod.blocks.0.post_fc_norm.bias', 'mod.blocks.0.fc2.weight', 'mod.blocks.0.fc2.bias', 'mod.blocks.1.c_attn', 'mod.blocks.1.w_resid', 'mod.blocks.1.pre_attn_norm.weight', 'mod.blocks.1.pre_attn_norm.bias', 'mod.blocks.1.attn.in_proj_weight', 'mod.blocks.1.attn.in_proj_bias', 'mod.blocks.1.attn.out_proj.weight', 'mod.blocks.1.attn.out_proj.bias', 'mod.blocks.1.post_attn_norm.weight', 'mod.blocks.1.post_attn_norm.bias', 'mod.blocks.1.pre_fc_norm.weight', 'mod.blocks.1.pre_fc_norm.bias', 'mod.blocks.1.fc1.weight', 'mod.blocks.1.fc1.bias', 'mod.blocks.1.post_fc_norm.weight', 'mod.blocks.1.post_fc_norm.bias', 'mod.blocks.1.fc2.weight', 'mod.blocks.1.fc2.bias', 'mod.blocks.2.c_attn', 'mod.blocks.2.w_resid', 'mod.blocks.2.pre_attn_norm.weight', 'mod.blocks.2.pre_attn_norm.bias', 'mod.blocks.2.attn.in_proj_weight', 'mod.blocks.2.attn.in_proj_bias', 'mod.blocks.2.attn.out_proj.weight', 'mod.blocks.2.attn.out_proj.bias', 'mod.blocks.2.post_attn_norm.weight', 'mod.blocks.2.post_attn_norm.bias', 'mod.blocks.2.pre_fc_norm.weight', 'mod.blocks.2.pre_fc_norm.bias', 'mod.blocks.2.fc1.weight', 'mod.blocks.2.fc1.bias', 'mod.blocks.2.post_fc_norm.weight', 'mod.blocks.2.post_fc_norm.bias', 'mod.blocks.2.fc2.weight', 'mod.blocks.2.fc2.bias', 'mod.blocks.3.c_attn', 'mod.blocks.3.w_resid', 'mod.blocks.3.pre_attn_norm.weight', 'mod.blocks.3.pre_attn_norm.bias', 'mod.blocks.3.attn.in_proj_weight', 'mod.blocks.3.attn.in_proj_bias', 'mod.blocks.3.attn.out_proj.weight', 'mod.blocks.3.attn.out_proj.bias', 'mod.blocks.3.post_attn_norm.weight', 'mod.blocks.3.post_attn_norm.bias', 'mod.blocks.3.pre_fc_norm.weight', 'mod.blocks.3.pre_fc_norm.bias', 'mod.blocks.3.fc1.weight', 'mod.blocks.3.fc1.bias', 'mod.blocks.3.post_fc_norm.weight', 'mod.blocks.3.post_fc_norm.bias', 'mod.blocks.3.fc2.weight', 'mod.blocks.3.fc2.bias', 'mod.blocks.4.c_attn', 'mod.blocks.4.w_resid', 'mod.blocks.4.pre_attn_norm.weight', 'mod.blocks.4.pre_attn_norm.bias', 'mod.blocks.4.attn.in_proj_weight', 'mod.blocks.4.attn.in_proj_bias', 'mod.blocks.4.attn.out_proj.weight', 'mod.blocks.4.attn.out_proj.bias', 'mod.blocks.4.post_attn_norm.weight', 'mod.blocks.4.post_attn_norm.bias', 'mod.blocks.4.pre_fc_norm.weight', 'mod.blocks.4.pre_fc_norm.bias', 'mod.blocks.4.fc1.weight', 'mod.blocks.4.fc1.bias', 'mod.blocks.4.post_fc_norm.weight', 'mod.blocks.4.post_fc_norm.bias', 'mod.blocks.4.fc2.weight', 'mod.blocks.4.fc2.bias', 'mod.blocks.5.c_attn', 'mod.blocks.5.w_resid', 'mod.blocks.5.pre_attn_norm.weight', 'mod.blocks.5.pre_attn_norm.bias', 'mod.blocks.5.attn.in_proj_weight', 'mod.blocks.5.attn.in_proj_bias', 'mod.blocks.5.attn.out_proj.weight', 'mod.blocks.5.attn.out_proj.bias', 'mod.blocks.5.post_attn_norm.weight', 'mod.blocks.5.post_attn_norm.bias', 'mod.blocks.5.pre_fc_norm.weight', 'mod.blocks.5.pre_fc_norm.bias', 'mod.blocks.5.fc1.weight', 'mod.blocks.5.fc1.bias', 'mod.blocks.5.post_fc_norm.weight', 'mod.blocks.5.post_fc_norm.bias', 'mod.blocks.5.fc2.weight', 'mod.blocks.5.fc2.bias', 'mod.blocks.6.c_attn', 'mod.blocks.6.w_resid', 'mod.blocks.6.pre_attn_norm.weight', 'mod.blocks.6.pre_attn_norm.bias', 'mod.blocks.6.attn.in_proj_weight', 'mod.blocks.6.attn.in_proj_bias', 'mod.blocks.6.attn.out_proj.weight', 'mod.blocks.6.attn.out_proj.bias', 'mod.blocks.6.post_attn_norm.weight', 'mod.blocks.6.post_attn_norm.bias', 'mod.blocks.6.pre_fc_norm.weight', 'mod.blocks.6.pre_fc_norm.bias', 'mod.blocks.6.fc1.weight', 'mod.blocks.6.fc1.bias', 'mod.blocks.6.post_fc_norm.weight', 'mod.blocks.6.post_fc_norm.bias', 'mod.blocks.6.fc2.weight', 'mod.blocks.6.fc2.bias', 'mod.blocks.7.c_attn', 'mod.blocks.7.w_resid', 'mod.blocks.7.pre_attn_norm.weight', 'mod.blocks.7.pre_attn_norm.bias', 'mod.blocks.7.attn.in_proj_weight', 'mod.blocks.7.attn.in_proj_bias', 'mod.blocks.7.attn.out_proj.weight', 'mod.blocks.7.attn.out_proj.bias', 'mod.blocks.7.post_attn_norm.weight', 'mod.blocks.7.post_attn_norm.bias', 'mod.blocks.7.pre_fc_norm.weight', 'mod.blocks.7.pre_fc_norm.bias', 'mod.blocks.7.fc1.weight', 'mod.blocks.7.fc1.bias', 'mod.blocks.7.post_fc_norm.weight', 'mod.blocks.7.post_fc_norm.bias', 'mod.blocks.7.fc2.weight', 'mod.blocks.7.fc2.bias', 'mod.cls_blocks.0.c_attn', 'mod.cls_blocks.0.w_resid', 'mod.cls_blocks.0.pre_attn_norm.weight', 'mod.cls_blocks.0.pre_attn_norm.bias', 'mod.cls_blocks.0.attn.in_proj_weight', 'mod.cls_blocks.0.attn.in_proj_bias', 'mod.cls_blocks.0.attn.out_proj.weight', 'mod.cls_blocks.0.attn.out_proj.bias', 'mod.cls_blocks.0.post_attn_norm.weight', 'mod.cls_blocks.0.post_attn_norm.bias', 'mod.cls_blocks.0.pre_fc_norm.weight', 'mod.cls_blocks.0.pre_fc_norm.bias', 'mod.cls_blocks.0.fc1.weight', 'mod.cls_blocks.0.fc1.bias', 'mod.cls_blocks.0.post_fc_norm.weight', 'mod.cls_blocks.0.post_fc_norm.bias', 'mod.cls_blocks.0.fc2.weight', 'mod.cls_blocks.0.fc2.bias', 'mod.cls_blocks.1.c_attn', 'mod.cls_blocks.1.w_resid', 'mod.cls_blocks.1.pre_attn_norm.weight', 'mod.cls_blocks.1.pre_attn_norm.bias', 'mod.cls_blocks.1.attn.in_proj_weight', 'mod.cls_blocks.1.attn.in_proj_bias', 'mod.cls_blocks.1.attn.out_proj.weight', 'mod.cls_blocks.1.attn.out_proj.bias', 'mod.cls_blocks.1.post_attn_norm.weight', 'mod.cls_blocks.1.post_attn_norm.bias', 'mod.cls_blocks.1.pre_fc_norm.weight', 'mod.cls_blocks.1.pre_fc_norm.bias', 'mod.cls_blocks.1.fc1.weight', 'mod.cls_blocks.1.fc1.bias', 'mod.cls_blocks.1.post_fc_norm.weight', 'mod.cls_blocks.1.post_fc_norm.bias', 'mod.cls_blocks.1.fc2.weight', 'mod.cls_blocks.1.fc2.bias', 'mod.norm.weight', 'mod.norm.bias'])\n"
     ]
    }
   ],
   "source": [
    "model_Xbb = models.full_model(data_config_Xbb,for_inference=True,save_representaions=False)  \n",
    "model_Xbb = helpers.load_weights(model_Xbb,'models/Xbb_task_lr0.001_bs512_subset1.0.pt',device)"
   ]
  },
  {
   "cell_type": "markdown",
   "metadata": {},
   "source": [
    "- prepare the inputs "
   ]
  },
  {
   "cell_type": "code",
   "execution_count": 79,
   "metadata": {},
   "outputs": [
    {
     "name": "stdout",
     "output_type": "stream",
     "text": [
      "dict_keys(['pf_points', 'pf_features', 'pf_vectors', 'pf_mask', 'label'])\n"
     ]
    },
    {
     "name": "stderr",
     "output_type": "stream",
     "text": [
      "/Users/matthiasvigl/Documents/Physics/EndToEnd/public/Finetune_hep/python/helpers.py:72: RuntimeWarning: divide by zero encountered in log\n",
      "  result = np.log(ma_data)\n"
     ]
    }
   ],
   "source": [
    "with h5py.File('data/h5/Data_test_600.0_4.h5', 'r') as sample_sig:\n",
    "    data_Xbb = {}\n",
    "    data_Xbb['X_jet'] = sample_sig['X_jet_singlejet'][:]\n",
    "    data_Xbb['X_pfo'] = sample_sig['X_pfo_singlejet'][:]\n",
    "    data_Xbb['labels'] = sample_sig['X_label_singlejet'][:]\n",
    "    inputs_Xbb = helpers.build_features_and_labels_Xbb(data_Xbb)\n",
    "print(inputs_Xbb.keys())    \n",
    "pf_points = torch.tensor(inputs_Xbb['pf_points']).float().to(device)\n",
    "pf_features = torch.tensor(inputs_Xbb['pf_features']).float().to(device)\n",
    "pf_vectors = torch.tensor(inputs_Xbb['pf_vectors']).float().to(device)\n",
    "pf_mask = torch.tensor(inputs_Xbb['pf_mask']).float().to(device)    "
   ]
  },
  {
   "cell_type": "markdown",
   "metadata": {},
   "source": [
    "- evaluate the tagger"
   ]
  },
  {
   "cell_type": "code",
   "execution_count": 80,
   "metadata": {},
   "outputs": [
    {
     "name": "stderr",
     "output_type": "stream",
     "text": [
      "/Users/matthiasvigl/Library/Python/3.9/lib/python/site-packages/torch/nn/functional.py:5109: UserWarning: Support for mismatched key_padding_mask and attn_mask is deprecated. Use same type for both instead.\n",
      "  warnings.warn(\n"
     ]
    }
   ],
   "source": [
    "with torch.no_grad():\n",
    "    model_Xbb.eval()\n",
    "    preds_Xbb = model_Xbb(pf_points,pf_features,pf_vectors,pf_mask)"
   ]
  },
  {
   "cell_type": "code",
   "execution_count": 81,
   "metadata": {},
   "outputs": [
    {
     "data": {
      "text/plain": [
       "torch.Size([173, 1])"
      ]
     },
     "execution_count": 81,
     "metadata": {},
     "output_type": "execute_result"
    }
   ],
   "source": [
    "preds_Xbb.shape"
   ]
  },
  {
   "cell_type": "code",
   "execution_count": 82,
   "metadata": {},
   "outputs": [
    {
     "data": {
      "text/plain": [
       "<matplotlib.legend.Legend at 0x2c50e2b20>"
      ]
     },
     "execution_count": 82,
     "metadata": {},
     "output_type": "execute_result"
    },
    {
     "data": {
      "image/png": "[encoded data removed]",
      "text/plain": [
       "<Figure size 640x480 with 1 Axes>"
      ]
     },
     "metadata": {},
     "output_type": "display_data"
    }
   ],
   "source": [
    "b=np.linspace(0,1,11)\n",
    "fig, ax = plt.subplots()\n",
    "ax.hist(preds_Xbb.detach().numpy(),weights=1*inputs_Xbb['label'], lw=0.8,bins=b,histtype='step', density=True, alpha=0.7, label='Xbb')\n",
    "ax.hist(preds_Xbb.detach().numpy(),weights=1*(inputs_Xbb['label']==0), lw=0.8,bins=b,histtype='step', density=True, alpha=0.7, label='QCD')\n",
    "ax.legend()"
   ]
  },
  {
   "cell_type": "markdown",
   "metadata": {},
   "source": [
    "# **Event task training**"
   ]
  },
  {
   "cell_type": "markdown",
   "metadata": {},
   "source": [
    "here there are 3 options based on the intermediate representation (V-only),(V+HLF) and (S+HLF):"
   ]
  },
  {
   "cell_type": "code",
   "execution_count": 83,
   "metadata": {},
   "outputs": [],
   "source": [
    "model_latent = models.full_model(data_config_latent,for_inference=False,save_representaions=False)   #V-only\n",
    "model_latent_hlf = models.full_model(data_config_latent_hlf,for_inference=False,save_representaions=False)  #V+HLF\n",
    "model_Xbb_hlf = models.full_model(data_config_Xbb_hlf,for_inference=False,save_representaions=False) #S+HLF"
   ]
  },
  {
   "cell_type": "markdown",
   "metadata": {},
   "source": [
    "let's go with the S+HLF "
   ]
  },
  {
   "cell_type": "code",
   "execution_count": 84,
   "metadata": {},
   "outputs": [
    {
     "data": {
      "text/plain": [
       "'Event'"
      ]
     },
     "execution_count": 84,
     "metadata": {},
     "output_type": "execute_result"
    }
   ],
   "source": [
    "model_Xbb_hlf.Task"
   ]
  },
  {
   "cell_type": "markdown",
   "metadata": {},
   "source": [
    "again, training is done with the `training.py` script (see `config/slurm` examples) - remember to put your comet `api_key` and `ws`"
   ]
  },
  {
   "cell_type": "markdown",
   "metadata": {},
   "source": [
    "now let's assume we have a trained network"
   ]
  },
  {
   "cell_type": "markdown",
   "metadata": {},
   "source": [
    "- load the weights (note for_inference=True)"
   ]
  },
  {
   "cell_type": "code",
   "execution_count": 91,
   "metadata": {},
   "outputs": [
    {
     "name": "stdout",
     "output_type": "stream",
     "text": [
      "loading weights :\n",
      "dict_keys(['Xbb.0.weight', 'Xbb.0.bias', 'head.phi.0.weight', 'head.phi.0.bias', 'head.phi.2.weight', 'head.phi.2.bias', 'head.phi.4.weight', 'head.phi.4.bias', 'head.rho.0.weight', 'head.rho.0.bias', 'head.rho.2.weight', 'head.rho.2.bias', 'head.rho.4.weight', 'head.rho.4.bias', 'head.rho.6.weight', 'head.rho.6.bias', 'mod.cls_token', 'mod.embed.input_bn.weight', 'mod.embed.input_bn.bias', 'mod.embed.input_bn.running_mean', 'mod.embed.input_bn.running_var', 'mod.embed.input_bn.num_batches_tracked', 'mod.embed.embed.0.weight', 'mod.embed.embed.0.bias', 'mod.embed.embed.1.weight', 'mod.embed.embed.1.bias', 'mod.embed.embed.3.weight', 'mod.embed.embed.3.bias', 'mod.embed.embed.4.weight', 'mod.embed.embed.4.bias', 'mod.embed.embed.6.weight', 'mod.embed.embed.6.bias', 'mod.embed.embed.7.weight', 'mod.embed.embed.7.bias', 'mod.pair_embed.embed.0.weight', 'mod.pair_embed.embed.0.bias', 'mod.pair_embed.embed.0.running_mean', 'mod.pair_embed.embed.0.running_var', 'mod.pair_embed.embed.0.num_batches_tracked', 'mod.pair_embed.embed.1.weight', 'mod.pair_embed.embed.1.bias', 'mod.pair_embed.embed.2.weight', 'mod.pair_embed.embed.2.bias', 'mod.pair_embed.embed.2.running_mean', 'mod.pair_embed.embed.2.running_var', 'mod.pair_embed.embed.2.num_batches_tracked', 'mod.pair_embed.embed.4.weight', 'mod.pair_embed.embed.4.bias', 'mod.pair_embed.embed.5.weight', 'mod.pair_embed.embed.5.bias', 'mod.pair_embed.embed.5.running_mean', 'mod.pair_embed.embed.5.running_var', 'mod.pair_embed.embed.5.num_batches_tracked', 'mod.pair_embed.embed.7.weight', 'mod.pair_embed.embed.7.bias', 'mod.pair_embed.embed.8.weight', 'mod.pair_embed.embed.8.bias', 'mod.pair_embed.embed.8.running_mean', 'mod.pair_embed.embed.8.running_var', 'mod.pair_embed.embed.8.num_batches_tracked', 'mod.pair_embed.embed.10.weight', 'mod.pair_embed.embed.10.bias', 'mod.pair_embed.embed.11.weight', 'mod.pair_embed.embed.11.bias', 'mod.pair_embed.embed.11.running_mean', 'mod.pair_embed.embed.11.running_var', 'mod.pair_embed.embed.11.num_batches_tracked', 'mod.blocks.0.c_attn', 'mod.blocks.0.w_resid', 'mod.blocks.0.pre_attn_norm.weight', 'mod.blocks.0.pre_attn_norm.bias', 'mod.blocks.0.attn.in_proj_weight', 'mod.blocks.0.attn.in_proj_bias', 'mod.blocks.0.attn.out_proj.weight', 'mod.blocks.0.attn.out_proj.bias', 'mod.blocks.0.post_attn_norm.weight', 'mod.blocks.0.post_attn_norm.bias', 'mod.blocks.0.pre_fc_norm.weight', 'mod.blocks.0.pre_fc_norm.bias', 'mod.blocks.0.fc1.weight', 'mod.blocks.0.fc1.bias', 'mod.blocks.0.post_fc_norm.weight', 'mod.blocks.0.post_fc_norm.bias', 'mod.blocks.0.fc2.weight', 'mod.blocks.0.fc2.bias', 'mod.blocks.1.c_attn', 'mod.blocks.1.w_resid', 'mod.blocks.1.pre_attn_norm.weight', 'mod.blocks.1.pre_attn_norm.bias', 'mod.blocks.1.attn.in_proj_weight', 'mod.blocks.1.attn.in_proj_bias', 'mod.blocks.1.attn.out_proj.weight', 'mod.blocks.1.attn.out_proj.bias', 'mod.blocks.1.post_attn_norm.weight', 'mod.blocks.1.post_attn_norm.bias', 'mod.blocks.1.pre_fc_norm.weight', 'mod.blocks.1.pre_fc_norm.bias', 'mod.blocks.1.fc1.weight', 'mod.blocks.1.fc1.bias', 'mod.blocks.1.post_fc_norm.weight', 'mod.blocks.1.post_fc_norm.bias', 'mod.blocks.1.fc2.weight', 'mod.blocks.1.fc2.bias', 'mod.blocks.2.c_attn', 'mod.blocks.2.w_resid', 'mod.blocks.2.pre_attn_norm.weight', 'mod.blocks.2.pre_attn_norm.bias', 'mod.blocks.2.attn.in_proj_weight', 'mod.blocks.2.attn.in_proj_bias', 'mod.blocks.2.attn.out_proj.weight', 'mod.blocks.2.attn.out_proj.bias', 'mod.blocks.2.post_attn_norm.weight', 'mod.blocks.2.post_attn_norm.bias', 'mod.blocks.2.pre_fc_norm.weight', 'mod.blocks.2.pre_fc_norm.bias', 'mod.blocks.2.fc1.weight', 'mod.blocks.2.fc1.bias', 'mod.blocks.2.post_fc_norm.weight', 'mod.blocks.2.post_fc_norm.bias', 'mod.blocks.2.fc2.weight', 'mod.blocks.2.fc2.bias', 'mod.blocks.3.c_attn', 'mod.blocks.3.w_resid', 'mod.blocks.3.pre_attn_norm.weight', 'mod.blocks.3.pre_attn_norm.bias', 'mod.blocks.3.attn.in_proj_weight', 'mod.blocks.3.attn.in_proj_bias', 'mod.blocks.3.attn.out_proj.weight', 'mod.blocks.3.attn.out_proj.bias', 'mod.blocks.3.post_attn_norm.weight', 'mod.blocks.3.post_attn_norm.bias', 'mod.blocks.3.pre_fc_norm.weight', 'mod.blocks.3.pre_fc_norm.bias', 'mod.blocks.3.fc1.weight', 'mod.blocks.3.fc1.bias', 'mod.blocks.3.post_fc_norm.weight', 'mod.blocks.3.post_fc_norm.bias', 'mod.blocks.3.fc2.weight', 'mod.blocks.3.fc2.bias', 'mod.blocks.4.c_attn', 'mod.blocks.4.w_resid', 'mod.blocks.4.pre_attn_norm.weight', 'mod.blocks.4.pre_attn_norm.bias', 'mod.blocks.4.attn.in_proj_weight', 'mod.blocks.4.attn.in_proj_bias', 'mod.blocks.4.attn.out_proj.weight', 'mod.blocks.4.attn.out_proj.bias', 'mod.blocks.4.post_attn_norm.weight', 'mod.blocks.4.post_attn_norm.bias', 'mod.blocks.4.pre_fc_norm.weight', 'mod.blocks.4.pre_fc_norm.bias', 'mod.blocks.4.fc1.weight', 'mod.blocks.4.fc1.bias', 'mod.blocks.4.post_fc_norm.weight', 'mod.blocks.4.post_fc_norm.bias', 'mod.blocks.4.fc2.weight', 'mod.blocks.4.fc2.bias', 'mod.blocks.5.c_attn', 'mod.blocks.5.w_resid', 'mod.blocks.5.pre_attn_norm.weight', 'mod.blocks.5.pre_attn_norm.bias', 'mod.blocks.5.attn.in_proj_weight', 'mod.blocks.5.attn.in_proj_bias', 'mod.blocks.5.attn.out_proj.weight', 'mod.blocks.5.attn.out_proj.bias', 'mod.blocks.5.post_attn_norm.weight', 'mod.blocks.5.post_attn_norm.bias', 'mod.blocks.5.pre_fc_norm.weight', 'mod.blocks.5.pre_fc_norm.bias', 'mod.blocks.5.fc1.weight', 'mod.blocks.5.fc1.bias', 'mod.blocks.5.post_fc_norm.weight', 'mod.blocks.5.post_fc_norm.bias', 'mod.blocks.5.fc2.weight', 'mod.blocks.5.fc2.bias', 'mod.blocks.6.c_attn', 'mod.blocks.6.w_resid', 'mod.blocks.6.pre_attn_norm.weight', 'mod.blocks.6.pre_attn_norm.bias', 'mod.blocks.6.attn.in_proj_weight', 'mod.blocks.6.attn.in_proj_bias', 'mod.blocks.6.attn.out_proj.weight', 'mod.blocks.6.attn.out_proj.bias', 'mod.blocks.6.post_attn_norm.weight', 'mod.blocks.6.post_attn_norm.bias', 'mod.blocks.6.pre_fc_norm.weight', 'mod.blocks.6.pre_fc_norm.bias', 'mod.blocks.6.fc1.weight', 'mod.blocks.6.fc1.bias', 'mod.blocks.6.post_fc_norm.weight', 'mod.blocks.6.post_fc_norm.bias', 'mod.blocks.6.fc2.weight', 'mod.blocks.6.fc2.bias', 'mod.blocks.7.c_attn', 'mod.blocks.7.w_resid', 'mod.blocks.7.pre_attn_norm.weight', 'mod.blocks.7.pre_attn_norm.bias', 'mod.blocks.7.attn.in_proj_weight', 'mod.blocks.7.attn.in_proj_bias', 'mod.blocks.7.attn.out_proj.weight', 'mod.blocks.7.attn.out_proj.bias', 'mod.blocks.7.post_attn_norm.weight', 'mod.blocks.7.post_attn_norm.bias', 'mod.blocks.7.pre_fc_norm.weight', 'mod.blocks.7.pre_fc_norm.bias', 'mod.blocks.7.fc1.weight', 'mod.blocks.7.fc1.bias', 'mod.blocks.7.post_fc_norm.weight', 'mod.blocks.7.post_fc_norm.bias', 'mod.blocks.7.fc2.weight', 'mod.blocks.7.fc2.bias', 'mod.cls_blocks.0.c_attn', 'mod.cls_blocks.0.w_resid', 'mod.cls_blocks.0.pre_attn_norm.weight', 'mod.cls_blocks.0.pre_attn_norm.bias', 'mod.cls_blocks.0.attn.in_proj_weight', 'mod.cls_blocks.0.attn.in_proj_bias', 'mod.cls_blocks.0.attn.out_proj.weight', 'mod.cls_blocks.0.attn.out_proj.bias', 'mod.cls_blocks.0.post_attn_norm.weight', 'mod.cls_blocks.0.post_attn_norm.bias', 'mod.cls_blocks.0.pre_fc_norm.weight', 'mod.cls_blocks.0.pre_fc_norm.bias', 'mod.cls_blocks.0.fc1.weight', 'mod.cls_blocks.0.fc1.bias', 'mod.cls_blocks.0.post_fc_norm.weight', 'mod.cls_blocks.0.post_fc_norm.bias', 'mod.cls_blocks.0.fc2.weight', 'mod.cls_blocks.0.fc2.bias', 'mod.cls_blocks.1.c_attn', 'mod.cls_blocks.1.w_resid', 'mod.cls_blocks.1.pre_attn_norm.weight', 'mod.cls_blocks.1.pre_attn_norm.bias', 'mod.cls_blocks.1.attn.in_proj_weight', 'mod.cls_blocks.1.attn.in_proj_bias', 'mod.cls_blocks.1.attn.out_proj.weight', 'mod.cls_blocks.1.attn.out_proj.bias', 'mod.cls_blocks.1.post_attn_norm.weight', 'mod.cls_blocks.1.post_attn_norm.bias', 'mod.cls_blocks.1.pre_fc_norm.weight', 'mod.cls_blocks.1.pre_fc_norm.bias', 'mod.cls_blocks.1.fc1.weight', 'mod.cls_blocks.1.fc1.bias', 'mod.cls_blocks.1.post_fc_norm.weight', 'mod.cls_blocks.1.post_fc_norm.bias', 'mod.cls_blocks.1.fc2.weight', 'mod.cls_blocks.1.fc2.bias', 'mod.norm.weight', 'mod.norm.bias'])\n"
     ]
    }
   ],
   "source": [
    "model_Xbb_hlf = models.full_model(data_config_Xbb_hlf,for_inference=True,save_representaions=False) \n",
    "model_Xbb_hlf = helpers.load_weights(model_Xbb_hlf,'models/Finetune_Xbb_hl_lr0.001_bs256_subset1.0.pt',device)"
   ]
  },
  {
   "cell_type": "markdown",
   "metadata": {},
   "source": [
    "- prepare the inputs "
   ]
  },
  {
   "cell_type": "code",
   "execution_count": 102,
   "metadata": {},
   "outputs": [
    {
     "name": "stdout",
     "output_type": "stream",
     "text": [
      "dict_keys(['pf_points', 'pf_features', 'pf_vectors', 'pf_mask', 'jet_mask', 'label', 'hl_feats'])\n"
     ]
    },
    {
     "name": "stderr",
     "output_type": "stream",
     "text": [
      "/Users/matthiasvigl/Documents/Physics/EndToEnd/public/Finetune_hep/python/helpers.py:72: RuntimeWarning: divide by zero encountered in log\n",
      "  result = np.log(ma_data)\n",
      "/Users/matthiasvigl/Documents/Physics/EndToEnd/public/Finetune_hep/python/helpers.py:72: RuntimeWarning: invalid value encountered in log\n",
      "  result = np.log(ma_data)\n"
     ]
    }
   ],
   "source": [
    "with h5py.File('data/h5/Data_test_600.0_4.h5', 'r') as sample_sig:\n",
    "    data = {}\n",
    "    data['X_jet'] = sample_sig['X_jet'][:]\n",
    "    data['X_pfo'] = sample_sig['X_pfo'][:]\n",
    "    data['labels'] = sample_sig['labels'][:]\n",
    "    data['jet_mask'] = sample_sig['jet_mask'][:]\n",
    "with h5py.File('data/h5/Data_test_0.0_344.h5', 'r') as sample_bkg:\n",
    "    data['X_jet'] = np.concatenate((data['X_jet'],sample_bkg['X_jet'][:]),axis=0)\n",
    "    data['X_pfo'] = np.concatenate((data['X_pfo'],sample_bkg['X_pfo'][:]),axis=0)\n",
    "    data['labels'] = np.concatenate((data['labels'],sample_bkg['labels'][:]),axis=0)\n",
    "    data['jet_mask'] = np.concatenate((data['jet_mask'],sample_bkg['jet_mask'][:]),axis=0)\n",
    "    inputs = helpers.build_features_and_labels(data)  \n",
    "print(inputs.keys())        \n",
    "\n",
    "pf_points_event = torch.tensor(inputs['pf_points']).float().to(device)\n",
    "pf_features_event = torch.tensor(inputs['pf_features']).float().to(device)\n",
    "pf_vectors_event = torch.tensor(inputs['pf_vectors']).float().to(device)\n",
    "pf_mask_event = torch.tensor(inputs['pf_mask']).float().to(device)\n",
    "hl_feats = torch.tensor(inputs['hl_feats']).float().to(device)\n",
    "jet_mask = torch.tensor(inputs['jet_mask']).float().to(device)"
   ]
  },
  {
   "cell_type": "markdown",
   "metadata": {},
   "source": [
    "- run the classifier"
   ]
  },
  {
   "cell_type": "code",
   "execution_count": 103,
   "metadata": {},
   "outputs": [
    {
     "name": "stderr",
     "output_type": "stream",
     "text": [
      "/Users/matthiasvigl/Library/Python/3.9/lib/python/site-packages/torch/nn/functional.py:5109: UserWarning: Support for mismatched key_padding_mask and attn_mask is deprecated. Use same type for both instead.\n",
      "  warnings.warn(\n"
     ]
    }
   ],
   "source": [
    "with torch.no_grad():\n",
    "    model_Xbb_hlf.eval()\n",
    "    preds = model_Xbb_hlf(pf_points_event,pf_features_event,pf_vectors_event,pf_mask_event,jet_mask,hl_feats)"
   ]
  },
  {
   "cell_type": "code",
   "execution_count": 104,
   "metadata": {},
   "outputs": [
    {
     "data": {
      "text/plain": [
       "torch.Size([316, 1])"
      ]
     },
     "execution_count": 104,
     "metadata": {},
     "output_type": "execute_result"
    }
   ],
   "source": [
    "preds.shape"
   ]
  },
  {
   "cell_type": "code",
   "execution_count": 110,
   "metadata": {},
   "outputs": [
    {
     "data": {
      "text/plain": [
       "<matplotlib.legend.Legend at 0x2ae449c70>"
      ]
     },
     "execution_count": 110,
     "metadata": {},
     "output_type": "execute_result"
    },
    {
     "data": {
      "image/png": "[encoded data removed]",
      "text/plain": [
       "<Figure size 640x480 with 1 Axes>"
      ]
     },
     "metadata": {},
     "output_type": "display_data"
    }
   ],
   "source": [
    "b=np.linspace(0,1,11)\n",
    "fig, ax = plt.subplots()\n",
    "ax.hist(preds.detach().numpy(),weights=1*inputs['label'], lw=0.8,bins=b,histtype='step', density=True, alpha=0.7, label='Signal')\n",
    "ax.hist(preds.detach().numpy(),weights=1*(inputs['label']==0), lw=0.8,bins=b,histtype='step', density=True, alpha=0.7, label='Background')\n",
    "ax.legend()"
   ]
  },
  {
   "cell_type": "markdown",
   "metadata": {},
   "source": [
    "# About plotting"
   ]
  },
  {
   "cell_type": "markdown",
   "metadata": {},
   "source": [
    "after saving the scores for different training strategies with `save_scores.py`, one can compare the performance on the event task with `plot.py` (see `config/slurm` examples)"
   ]
  }
 ],
 "metadata": {
  "kernelspec": {
   "display_name": "Python 3",
   "language": "python",
   "name": "python3"
  },
  "language_info": {
   "codemirror_mode": {
    "name": "ipython",
    "version": 3
   },
   "file_extension": ".py",
   "mimetype": "text/x-python",
   "name": "python",
   "nbconvert_exporter": "python",
   "pygments_lexer": "ipython3",
   "version": "3.9.6"
  }
 },
 "nbformat": 4,
 "nbformat_minor": 2
}
